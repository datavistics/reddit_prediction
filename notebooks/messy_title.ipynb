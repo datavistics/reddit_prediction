{
 "cells": [
  {
   "cell_type": "code",
   "execution_count": 1,
   "metadata": {
    "ExecuteTime": {
     "end_time": "2018-01-17T16:09:14.193079Z",
     "start_time": "2018-01-17T16:09:11.579212Z"
    }
   },
   "outputs": [],
   "source": [
    "%matplotlib inline\n",
    "\n",
    "import pandas as pd\n",
    "from pathlib import Path\n",
    "import sqlite3\n",
    "from matplotlib import pyplot as plt\n",
    "import re\n",
    "import numpy as np\n",
    "import math\n",
    "\n",
    "plt.style.use('ggplot')\n",
    "\n",
    "project_dir = Path.cwd().parent\n",
    "database_path = project_dir/'data'/'interim'/'relationships.sqlite'\n",
    "\n",
    "conn = sqlite3.connect(str(database_path))\n",
    "df = pd.read_sql_query('select * from relationships_submission', conn, parse_dates=['created', 'edited_date'], index_col='created')"
   ]
  },
  {
   "cell_type": "code",
   "execution_count": 2,
   "metadata": {
    "ExecuteTime": {
     "end_time": "2018-01-17T16:09:14.342186Z",
     "start_time": "2018-01-17T16:09:14.194071Z"
    }
   },
   "outputs": [
    {
     "data": {
      "text/plain": [
       "id                      object\n",
       "author                  object\n",
       "downs                    int64\n",
       "edited                   int64\n",
       "edited_date     datetime64[ns]\n",
       "locked                   int64\n",
       "name                    object\n",
       "num_comments             int64\n",
       "permalink               object\n",
       "score                    int64\n",
       "title                   object\n",
       "ups                      int64\n",
       "dtype: object"
      ]
     },
     "execution_count": 2,
     "metadata": {},
     "output_type": "execute_result"
    }
   ],
   "source": [
    "df = df.infer_objects()\n",
    "df.dtypes"
   ]
  },
  {
   "cell_type": "code",
   "execution_count": 3,
   "metadata": {
    "ExecuteTime": {
     "end_time": "2018-01-17T16:09:14.398265Z",
     "start_time": "2018-01-17T16:09:14.343178Z"
    }
   },
   "outputs": [],
   "source": [
    "def norm_series(ser):\n",
    "    return ser/max(ser)"
   ]
  },
  {
   "cell_type": "code",
   "execution_count": 4,
   "metadata": {
    "ExecuteTime": {
     "end_time": "2018-01-17T16:09:16.115489Z",
     "start_time": "2018-01-17T16:09:14.399251Z"
    }
   },
   "outputs": [],
   "source": [
    "df_no_age = df.loc[df.title.str.match(r'.*\\d+.*') == False,]\n",
    "df_age = df.loc[df.title.str.match(r'.*\\d+.*') == True,]"
   ]
  },
  {
   "cell_type": "code",
   "execution_count": 5,
   "metadata": {
    "ExecuteTime": {
     "end_time": "2018-01-17T16:09:16.334647Z",
     "start_time": "2018-01-17T16:09:16.116490Z"
    }
   },
   "outputs": [
    {
     "data": {
      "text/plain": [
       "[<matplotlib.lines.Line2D at 0x2ca559e5ba8>]"
      ]
     },
     "execution_count": 5,
     "metadata": {},
     "output_type": "execute_result"
    },
    {
     "data": {
      "image/png": "[encoded data removed]",
      "text/plain": [
       "<matplotlib.figure.Figure at 0x2ca518c6668>"
      ]
     },
     "metadata": {},
     "output_type": "display_data"
    }
   ],
   "source": [
    "x = df_no_age.index\n",
    "y = df_no_age.score\n",
    "\n",
    "plt.plot(x,y)"
   ]
  },
  {
   "cell_type": "code",
   "execution_count": 6,
   "metadata": {
    "ExecuteTime": {
     "end_time": "2018-01-17T16:09:16.359673Z",
     "start_time": "2018-01-17T16:09:16.336648Z"
    }
   },
   "outputs": [
    {
     "data": {
      "text/html": [
       "<div>\n",
       "<style scoped>\n",
       "    .dataframe tbody tr th:only-of-type {\n",
       "        vertical-align: middle;\n",
       "    }\n",
       "\n",
       "    .dataframe tbody tr th {\n",
       "        vertical-align: top;\n",
       "    }\n",
       "\n",
       "    .dataframe thead th {\n",
       "        text-align: right;\n",
       "    }\n",
       "</style>\n",
       "<table border=\"1\" class=\"dataframe\">\n",
       "  <thead>\n",
       "    <tr style=\"text-align: right;\">\n",
       "      <th></th>\n",
       "      <th>id</th>\n",
       "      <th>author</th>\n",
       "      <th>downs</th>\n",
       "      <th>edited</th>\n",
       "      <th>edited_date</th>\n",
       "      <th>locked</th>\n",
       "      <th>name</th>\n",
       "      <th>num_comments</th>\n",
       "      <th>permalink</th>\n",
       "      <th>score</th>\n",
       "      <th>title</th>\n",
       "      <th>ups</th>\n",
       "    </tr>\n",
       "    <tr>\n",
       "      <th>created</th>\n",
       "      <th></th>\n",
       "      <th></th>\n",
       "      <th></th>\n",
       "      <th></th>\n",
       "      <th></th>\n",
       "      <th></th>\n",
       "      <th></th>\n",
       "      <th></th>\n",
       "      <th></th>\n",
       "      <th></th>\n",
       "      <th></th>\n",
       "      <th></th>\n",
       "    </tr>\n",
       "  </thead>\n",
       "  <tbody>\n",
       "    <tr>\n",
       "      <th>2016-03-19 01:33:46</th>\n",
       "      <td>4ayb89</td>\n",
       "      <td>Relationships_Mods</td>\n",
       "      <td>0</td>\n",
       "      <td>0</td>\n",
       "      <td>2016-03-19 01:33:46</td>\n",
       "      <td>1</td>\n",
       "      <td>t3_4ayb89</td>\n",
       "      <td>0</td>\n",
       "      <td>/r/relationships/comments/4ayb89/be_aware_exte...</td>\n",
       "      <td>4527</td>\n",
       "      <td>Be Aware: External websites, magazines, and TV...</td>\n",
       "      <td>4527</td>\n",
       "    </tr>\n",
       "  </tbody>\n",
       "</table>\n",
       "</div>"
      ],
      "text/plain": [
       "                         id              author  downs  edited  \\\n",
       "created                                                          \n",
       "2016-03-19 01:33:46  4ayb89  Relationships_Mods      0       0   \n",
       "\n",
       "                            edited_date  locked       name  num_comments  \\\n",
       "created                                                                    \n",
       "2016-03-19 01:33:46 2016-03-19 01:33:46       1  t3_4ayb89             0   \n",
       "\n",
       "                                                             permalink  score  \\\n",
       "created                                                                         \n",
       "2016-03-19 01:33:46  /r/relationships/comments/4ayb89/be_aware_exte...   4527   \n",
       "\n",
       "                                                                 title   ups  \n",
       "created                                                                       \n",
       "2016-03-19 01:33:46  Be Aware: External websites, magazines, and TV...  4527  "
      ]
     },
     "execution_count": 6,
     "metadata": {},
     "output_type": "execute_result"
    }
   ],
   "source": [
    "df_no_age[df_no_age.score == df_no_age.score.max()]"
   ]
  },
  {
   "cell_type": "code",
   "execution_count": 7,
   "metadata": {
    "ExecuteTime": {
     "end_time": "2018-01-17T16:09:16.748082Z",
     "start_time": "2018-01-17T16:09:16.361665Z"
    }
   },
   "outputs": [
    {
     "data": {
      "text/plain": [
       "[<matplotlib.lines.Line2D at 0x2ca54fd7d68>]"
      ]
     },
     "execution_count": 7,
     "metadata": {},
     "output_type": "execute_result"
    },
    {
     "data": {
      "image/png": "[encoded data removed]",
      "text/plain": [
       "<matplotlib.figure.Figure at 0x2ca518c6160>"
      ]
     },
     "metadata": {},
     "output_type": "display_data"
    }
   ],
   "source": [
    "monthly_no_age = df_no_age.resample('M').mean() \n",
    "\n",
    "plt.plot(monthly_no_age.index, monthly_no_age.score)"
   ]
  },
  {
   "cell_type": "code",
   "execution_count": 8,
   "metadata": {
    "ExecuteTime": {
     "end_time": "2018-01-17T16:09:17.410554Z",
     "start_time": "2018-01-17T16:09:16.750087Z"
    }
   },
   "outputs": [
    {
     "data": {
      "text/plain": [
       "[<matplotlib.lines.Line2D at 0x2ca579177b8>]"
      ]
     },
     "execution_count": 8,
     "metadata": {},
     "output_type": "execute_result"
    },
    {
     "data": {
      "image/png": "[encoded data removed]",
      "text/plain": [
       "<matplotlib.figure.Figure at 0x2ca54b748d0>"
      ]
     },
     "metadata": {},
     "output_type": "display_data"
    }
   ],
   "source": [
    "monthly = df_age.resample('M').mean()\n",
    "monthly_count = df_age.resample('M').count()\n",
    "plt.plot(monthly.index, norm_series(monthly.score))\n",
    "plt.plot(monthly_count.index, norm_series(monthly_count.score))"
   ]
  },
  {
   "cell_type": "code",
   "execution_count": 9,
   "metadata": {
    "ExecuteTime": {
     "end_time": "2018-01-17T16:09:17.572670Z",
     "start_time": "2018-01-17T16:09:17.411556Z"
    }
   },
   "outputs": [
    {
     "data": {
      "text/plain": [
       "[<matplotlib.lines.Line2D at 0x2ca58d68f28>]"
      ]
     },
     "execution_count": 9,
     "metadata": {},
     "output_type": "execute_result"
    },
    {
     "data": {
      "image/png": "[encoded data removed]",
      "text/plain": [
       "<matplotlib.figure.Figure at 0x2ca54d4d2b0>"
      ]
     },
     "metadata": {},
     "output_type": "display_data"
    }
   ],
   "source": [
    "monthly_selected = df_age[df_age.score > 50].resample('M').mean()\n",
    "plt.plot(monthly_selected.index, norm_series(monthly_selected.score))"
   ]
  },
  {
   "cell_type": "code",
   "execution_count": 10,
   "metadata": {
    "ExecuteTime": {
     "end_time": "2018-01-17T16:09:17.585679Z",
     "start_time": "2018-01-17T16:09:17.573670Z"
    }
   },
   "outputs": [
    {
     "data": {
      "text/html": [
       "<div>\n",
       "<style scoped>\n",
       "    .dataframe tbody tr th:only-of-type {\n",
       "        vertical-align: middle;\n",
       "    }\n",
       "\n",
       "    .dataframe tbody tr th {\n",
       "        vertical-align: top;\n",
       "    }\n",
       "\n",
       "    .dataframe thead th {\n",
       "        text-align: right;\n",
       "    }\n",
       "</style>\n",
       "<table border=\"1\" class=\"dataframe\">\n",
       "  <thead>\n",
       "    <tr style=\"text-align: right;\">\n",
       "      <th></th>\n",
       "      <th>downs</th>\n",
       "      <th>edited</th>\n",
       "      <th>locked</th>\n",
       "      <th>num_comments</th>\n",
       "      <th>score</th>\n",
       "      <th>ups</th>\n",
       "    </tr>\n",
       "    <tr>\n",
       "      <th>created</th>\n",
       "      <th></th>\n",
       "      <th></th>\n",
       "      <th></th>\n",
       "      <th></th>\n",
       "      <th></th>\n",
       "      <th></th>\n",
       "    </tr>\n",
       "  </thead>\n",
       "  <tbody>\n",
       "    <tr>\n",
       "      <th>2017-09-30</th>\n",
       "      <td>0.0</td>\n",
       "      <td>0.187245</td>\n",
       "      <td>1.0</td>\n",
       "      <td>16.971029</td>\n",
       "      <td>35.538596</td>\n",
       "      <td>35.538596</td>\n",
       "    </tr>\n",
       "    <tr>\n",
       "      <th>2017-10-31</th>\n",
       "      <td>0.0</td>\n",
       "      <td>0.197949</td>\n",
       "      <td>1.0</td>\n",
       "      <td>19.081879</td>\n",
       "      <td>38.288645</td>\n",
       "      <td>38.288645</td>\n",
       "    </tr>\n",
       "    <tr>\n",
       "      <th>2017-11-30</th>\n",
       "      <td>0.0</td>\n",
       "      <td>0.207968</td>\n",
       "      <td>1.0</td>\n",
       "      <td>19.581608</td>\n",
       "      <td>38.796420</td>\n",
       "      <td>38.796420</td>\n",
       "    </tr>\n",
       "    <tr>\n",
       "      <th>2017-12-31</th>\n",
       "      <td>0.0</td>\n",
       "      <td>0.208112</td>\n",
       "      <td>1.0</td>\n",
       "      <td>20.105053</td>\n",
       "      <td>45.945479</td>\n",
       "      <td>45.945479</td>\n",
       "    </tr>\n",
       "    <tr>\n",
       "      <th>2018-01-31</th>\n",
       "      <td>0.0</td>\n",
       "      <td>0.223781</td>\n",
       "      <td>1.0</td>\n",
       "      <td>19.456682</td>\n",
       "      <td>36.186952</td>\n",
       "      <td>36.186952</td>\n",
       "    </tr>\n",
       "  </tbody>\n",
       "</table>\n",
       "</div>"
      ],
      "text/plain": [
       "            downs    edited  locked  num_comments      score        ups\n",
       "created                                                                \n",
       "2017-09-30    0.0  0.187245     1.0     16.971029  35.538596  35.538596\n",
       "2017-10-31    0.0  0.197949     1.0     19.081879  38.288645  38.288645\n",
       "2017-11-30    0.0  0.207968     1.0     19.581608  38.796420  38.796420\n",
       "2017-12-31    0.0  0.208112     1.0     20.105053  45.945479  45.945479\n",
       "2018-01-31    0.0  0.223781     1.0     19.456682  36.186952  36.186952"
      ]
     },
     "execution_count": 10,
     "metadata": {},
     "output_type": "execute_result"
    }
   ],
   "source": [
    "monthly.tail()"
   ]
  },
  {
   "cell_type": "code",
   "execution_count": 11,
   "metadata": {
    "ExecuteTime": {
     "end_time": "2018-01-17T16:09:17.730779Z",
     "start_time": "2018-01-17T16:09:17.586682Z"
    }
   },
   "outputs": [
    {
     "data": {
      "text/html": [
       "<div>\n",
       "<style scoped>\n",
       "    .dataframe tbody tr th:only-of-type {\n",
       "        vertical-align: middle;\n",
       "    }\n",
       "\n",
       "    .dataframe tbody tr th {\n",
       "        vertical-align: top;\n",
       "    }\n",
       "\n",
       "    .dataframe thead th {\n",
       "        text-align: right;\n",
       "    }\n",
       "</style>\n",
       "<table border=\"1\" class=\"dataframe\">\n",
       "  <thead>\n",
       "    <tr style=\"text-align: right;\">\n",
       "      <th></th>\n",
       "      <th>downs</th>\n",
       "      <th>edited</th>\n",
       "      <th>locked</th>\n",
       "      <th>num_comments</th>\n",
       "      <th>score</th>\n",
       "      <th>ups</th>\n",
       "    </tr>\n",
       "    <tr>\n",
       "      <th>created</th>\n",
       "      <th></th>\n",
       "      <th></th>\n",
       "      <th></th>\n",
       "      <th></th>\n",
       "      <th></th>\n",
       "      <th></th>\n",
       "    </tr>\n",
       "  </thead>\n",
       "  <tbody>\n",
       "    <tr>\n",
       "      <th>2017-09-30</th>\n",
       "      <td>0.0</td>\n",
       "      <td>0.305677</td>\n",
       "      <td>1.0</td>\n",
       "      <td>83.399563</td>\n",
       "      <td>350.113537</td>\n",
       "      <td>350.113537</td>\n",
       "    </tr>\n",
       "    <tr>\n",
       "      <th>2017-10-31</th>\n",
       "      <td>0.0</td>\n",
       "      <td>0.368515</td>\n",
       "      <td>1.0</td>\n",
       "      <td>93.921288</td>\n",
       "      <td>333.644007</td>\n",
       "      <td>333.644007</td>\n",
       "    </tr>\n",
       "    <tr>\n",
       "      <th>2017-11-30</th>\n",
       "      <td>0.0</td>\n",
       "      <td>0.341969</td>\n",
       "      <td>1.0</td>\n",
       "      <td>89.369603</td>\n",
       "      <td>338.034542</td>\n",
       "      <td>338.034542</td>\n",
       "    </tr>\n",
       "    <tr>\n",
       "      <th>2017-12-31</th>\n",
       "      <td>0.0</td>\n",
       "      <td>0.328869</td>\n",
       "      <td>1.0</td>\n",
       "      <td>86.400298</td>\n",
       "      <td>370.934524</td>\n",
       "      <td>370.934524</td>\n",
       "    </tr>\n",
       "    <tr>\n",
       "      <th>2018-01-31</th>\n",
       "      <td>0.0</td>\n",
       "      <td>0.384880</td>\n",
       "      <td>1.0</td>\n",
       "      <td>93.233677</td>\n",
       "      <td>308.426117</td>\n",
       "      <td>308.426117</td>\n",
       "    </tr>\n",
       "  </tbody>\n",
       "</table>\n",
       "</div>"
      ],
      "text/plain": [
       "            downs    edited  locked  num_comments       score         ups\n",
       "created                                                                  \n",
       "2017-09-30    0.0  0.305677     1.0     83.399563  350.113537  350.113537\n",
       "2017-10-31    0.0  0.368515     1.0     93.921288  333.644007  333.644007\n",
       "2017-11-30    0.0  0.341969     1.0     89.369603  338.034542  338.034542\n",
       "2017-12-31    0.0  0.328869     1.0     86.400298  370.934524  370.934524\n",
       "2018-01-31    0.0  0.384880     1.0     93.233677  308.426117  308.426117"
      ]
     },
     "execution_count": 11,
     "metadata": {},
     "output_type": "execute_result"
    }
   ],
   "source": [
    "monthly_selected.tail()"
   ]
  },
  {
   "cell_type": "code",
   "execution_count": 12,
   "metadata": {
    "ExecuteTime": {
     "end_time": "2018-01-17T16:09:57.679986Z",
     "start_time": "2018-01-17T16:09:17.732782Z"
    }
   },
   "outputs": [
    {
     "data": {
      "text/html": [
       "<div>\n",
       "<style scoped>\n",
       "    .dataframe tbody tr th:only-of-type {\n",
       "        vertical-align: middle;\n",
       "    }\n",
       "\n",
       "    .dataframe tbody tr th {\n",
       "        vertical-align: top;\n",
       "    }\n",
       "\n",
       "    .dataframe thead th {\n",
       "        text-align: right;\n",
       "    }\n",
       "</style>\n",
       "<table border=\"1\" class=\"dataframe\">\n",
       "  <thead>\n",
       "    <tr style=\"text-align: right;\">\n",
       "      <th></th>\n",
       "      <th></th>\n",
       "      <th>0</th>\n",
       "    </tr>\n",
       "    <tr>\n",
       "      <th>created</th>\n",
       "      <th>match</th>\n",
       "      <th></th>\n",
       "    </tr>\n",
       "  </thead>\n",
       "  <tbody>\n",
       "    <tr>\n",
       "      <th>2011-01-17 19:51:41</th>\n",
       "      <th>0</th>\n",
       "      <td>on my ex (F-22)</td>\n",
       "    </tr>\n",
       "    <tr>\n",
       "      <th>2011-03-01 20:24:18</th>\n",
       "      <th>0</th>\n",
       "      <td>weird about me (m31) sleeping over</td>\n",
       "    </tr>\n",
       "    <tr>\n",
       "      <th>2011-04-15 11:24:28</th>\n",
       "      <th>0</th>\n",
       "      <td>Stressed out student[M,18] living at</td>\n",
       "    </tr>\n",
       "    <tr>\n",
       "      <th>2011-07-05 22:06:35</th>\n",
       "      <th>0</th>\n",
       "      <td>im moving 30miles (1hr) away from</td>\n",
       "    </tr>\n",
       "    <tr>\n",
       "      <th>2011-08-05 03:19:10</th>\n",
       "      <th>0</th>\n",
       "      <td>with my GF (32f)</td>\n",
       "    </tr>\n",
       "    <tr>\n",
       "      <th>2011-10-12 10:10:59</th>\n",
       "      <th>0</th>\n",
       "      <td>Should I (f/24) make a</td>\n",
       "    </tr>\n",
       "    <tr>\n",
       "      <th>2011-10-20 10:13:14</th>\n",
       "      <th>0</th>\n",
       "      <td>First post [20M]</td>\n",
       "    </tr>\n",
       "    <tr>\n",
       "      <th>2011-11-01 06:07:24</th>\n",
       "      <th>0</th>\n",
       "      <td>relationship with her [24f]</td>\n",
       "    </tr>\n",
       "    <tr>\n",
       "      <th>2011-10-31 18:24:13</th>\n",
       "      <th>0</th>\n",
       "      <td>She (32f) wants children</td>\n",
       "    </tr>\n",
       "    <tr>\n",
       "      <th>2011-11-02 06:43:10</th>\n",
       "      <th>0</th>\n",
       "      <td>not a troll [M22]</td>\n",
       "    </tr>\n",
       "    <tr>\n",
       "      <th rowspan=\"2\" valign=\"top\">2011-11-29 04:02:31</th>\n",
       "      <th>0</th>\n",
       "      <td>quiet (M27)</td>\n",
       "    </tr>\n",
       "    <tr>\n",
       "      <th>1</th>\n",
       "      <td>She (F27) is outgoing</td>\n",
       "    </tr>\n",
       "    <tr>\n",
       "      <th rowspan=\"2\" valign=\"top\">2012-01-07 03:36:26</th>\n",
       "      <th>0</th>\n",
       "      <td>sure if I (24-f) should end</td>\n",
       "    </tr>\n",
       "    <tr>\n",
       "      <th>1</th>\n",
       "      <td>with a man (25-f) I love</td>\n",
       "    </tr>\n",
       "    <tr>\n",
       "      <th rowspan=\"2\" valign=\"top\">2012-01-14 19:32:57</th>\n",
       "      <th>0</th>\n",
       "      <td>my sister (21F) is in</td>\n",
       "    </tr>\n",
       "    <tr>\n",
       "      <th>1</th>\n",
       "      <td>abusive codependent man (25M)</td>\n",
       "    </tr>\n",
       "    <tr>\n",
       "      <th rowspan=\"2\" valign=\"top\">2012-01-16 14:24:41</th>\n",
       "      <th>0</th>\n",
       "      <td>My girlfriend (20) is not</td>\n",
       "    </tr>\n",
       "    <tr>\n",
       "      <th>1</th>\n",
       "      <td>attracted to me (23) or anyone</td>\n",
       "    </tr>\n",
       "    <tr>\n",
       "      <th>2012-01-23 15:44:23</th>\n",
       "      <th>0</th>\n",
       "      <td>take his son (4) away with</td>\n",
       "    </tr>\n",
       "    <tr>\n",
       "      <th>2012-03-27 12:57:03</th>\n",
       "      <th>0</th>\n",
       "      <td>who is (18/m)</td>\n",
       "    </tr>\n",
       "    <tr>\n",
       "      <th>2012-04-10 09:33:24</th>\n",
       "      <th>0</th>\n",
       "      <td>with a friend(F/21)</td>\n",
       "    </tr>\n",
       "    <tr>\n",
       "      <th>2012-04-14 14:36:37</th>\n",
       "      <th>0</th>\n",
       "      <td>manipulative and I [22/M] kinda want</td>\n",
       "    </tr>\n",
       "    <tr>\n",
       "      <th rowspan=\"2\" valign=\"top\">2012-04-20 15:48:21</th>\n",
       "      <th>0</th>\n",
       "      <td>How do I (21M) make something</td>\n",
       "    </tr>\n",
       "    <tr>\n",
       "      <th>1</th>\n",
       "      <td>happen with her (20F)</td>\n",
       "    </tr>\n",
       "    <tr>\n",
       "      <th>2012-04-24 13:03:45</th>\n",
       "      <th>0</th>\n",
       "      <td>need some advice [20]M friendzoned</td>\n",
       "    </tr>\n",
       "    <tr>\n",
       "      <th>2012-04-30 11:43:46</th>\n",
       "      <th>0</th>\n",
       "      <td>a weird place [22F]</td>\n",
       "    </tr>\n",
       "    <tr>\n",
       "      <th>2012-05-10 07:08:19</th>\n",
       "      <th>0</th>\n",
       "      <td>relationship (16) at the</td>\n",
       "    </tr>\n",
       "    <tr>\n",
       "      <th>2012-05-09 19:53:04</th>\n",
       "      <th>0</th>\n",
       "      <td>My girlfriend(22) lost a</td>\n",
       "    </tr>\n",
       "    <tr>\n",
       "      <th>2012-05-11 15:45:09</th>\n",
       "      <th>0</th>\n",
       "      <td>related aunt (31) and I</td>\n",
       "    </tr>\n",
       "    <tr>\n",
       "      <th>2012-05-14 20:32:52</th>\n",
       "      <th>0</th>\n",
       "      <td>My crush M[22] is my</td>\n",
       "    </tr>\n",
       "    <tr>\n",
       "      <th>...</th>\n",
       "      <th>...</th>\n",
       "      <td>...</td>\n",
       "    </tr>\n",
       "    <tr>\n",
       "      <th>2018-01-12 10:28:14</th>\n",
       "      <th>0</th>\n",
       "      <td>Myself (24M) and my</td>\n",
       "    </tr>\n",
       "    <tr>\n",
       "      <th>2018-01-12 10:14:54</th>\n",
       "      <th>0</th>\n",
       "      <td>with my wife [28 F] of 4</td>\n",
       "    </tr>\n",
       "    <tr>\n",
       "      <th>2018-01-12 10:11:26</th>\n",
       "      <th>0</th>\n",
       "      <td>potential good friend [20F]</td>\n",
       "    </tr>\n",
       "    <tr>\n",
       "      <th>2018-01-12 10:10:48</th>\n",
       "      <th>0</th>\n",
       "      <td>with my son [26 M]</td>\n",
       "    </tr>\n",
       "    <tr>\n",
       "      <th>2018-01-12 10:08:59</th>\n",
       "      <th>0</th>\n",
       "      <td>dating a girl [f 21] for 2</td>\n",
       "    </tr>\n",
       "    <tr>\n",
       "      <th>2018-01-12 09:58:11</th>\n",
       "      <th>0</th>\n",
       "      <td>boyfriend [25 M] of 2</td>\n",
       "    </tr>\n",
       "    <tr>\n",
       "      <th>2018-01-12 09:45:54</th>\n",
       "      <th>0</th>\n",
       "      <td>mom [55F] totaled her</td>\n",
       "    </tr>\n",
       "    <tr>\n",
       "      <th>2018-01-12 09:35:01</th>\n",
       "      <th>0</th>\n",
       "      <td>with my BF [28 M] of 1</td>\n",
       "    </tr>\n",
       "    <tr>\n",
       "      <th>2018-01-12 09:28:20</th>\n",
       "      <th>0</th>\n",
       "      <td>my baby daddy [39M]</td>\n",
       "    </tr>\n",
       "    <tr>\n",
       "      <th rowspan=\"2\" valign=\"top\">2018-01-12 09:28:15</th>\n",
       "      <th>0</th>\n",
       "      <td>dad [58m] read some</td>\n",
       "    </tr>\n",
       "    <tr>\n",
       "      <th>1</th>\n",
       "      <td>things my boyfriend [18m] has given</td>\n",
       "    </tr>\n",
       "    <tr>\n",
       "      <th>2018-01-12 09:22:52</th>\n",
       "      <th>0</th>\n",
       "      <td>with my GF [21 F] 1 Year</td>\n",
       "    </tr>\n",
       "    <tr>\n",
       "      <th>2018-01-12 09:17:27</th>\n",
       "      <th>0</th>\n",
       "      <td>with best friend (16F) and I</td>\n",
       "    </tr>\n",
       "    <tr>\n",
       "      <th>2018-01-12 09:15:02</th>\n",
       "      <th>0</th>\n",
       "      <td>love him [32M]</td>\n",
       "    </tr>\n",
       "    <tr>\n",
       "      <th>2018-01-12 09:07:54</th>\n",
       "      <th>0</th>\n",
       "      <td>How can I [26F] have a</td>\n",
       "    </tr>\n",
       "    <tr>\n",
       "      <th rowspan=\"2\" valign=\"top\">2018-01-12 09:02:26</th>\n",
       "      <th>0</th>\n",
       "      <td>Unsure if I[20 M] should get</td>\n",
       "    </tr>\n",
       "    <tr>\n",
       "      <th>1</th>\n",
       "      <td>with my ex [18 F] after a</td>\n",
       "    </tr>\n",
       "    <tr>\n",
       "      <th rowspan=\"2\" valign=\"top\">2018-01-12 09:00:08</th>\n",
       "      <th>0</th>\n",
       "      <td>coworker [70m] thinks our</td>\n",
       "    </tr>\n",
       "    <tr>\n",
       "      <th>1</th>\n",
       "      <td>other coworker [50f] stole his</td>\n",
       "    </tr>\n",
       "    <tr>\n",
       "      <th>2018-01-12 08:44:51</th>\n",
       "      <th>0</th>\n",
       "      <td>with my boyfriend [26 M] of 6</td>\n",
       "    </tr>\n",
       "    <tr>\n",
       "      <th>2018-01-12 08:41:51</th>\n",
       "      <th>0</th>\n",
       "      <td>new girlfriend [21F] slept with</td>\n",
       "    </tr>\n",
       "    <tr>\n",
       "      <th>2018-01-12 08:31:12</th>\n",
       "      <th>0</th>\n",
       "      <td>and best friend [25 F] 4 years</td>\n",
       "    </tr>\n",
       "    <tr>\n",
       "      <th>2018-01-12 08:26:18</th>\n",
       "      <th>0</th>\n",
       "      <td>with my BF [24 M]</td>\n",
       "    </tr>\n",
       "    <tr>\n",
       "      <th rowspan=\"2\" valign=\"top\">2018-01-12 08:25:53</th>\n",
       "      <th>0</th>\n",
       "      <td>resent my mum [60f] for the</td>\n",
       "    </tr>\n",
       "    <tr>\n",
       "      <th>1</th>\n",
       "      <td>treats my dad [60f]</td>\n",
       "    </tr>\n",
       "    <tr>\n",
       "      <th>2018-01-12 08:20:20</th>\n",
       "      <th>0</th>\n",
       "      <td>my former BFF [35 F] of two</td>\n",
       "    </tr>\n",
       "    <tr>\n",
       "      <th>2018-01-12 08:18:43</th>\n",
       "      <th>0</th>\n",
       "      <td>dating my girlfriend [23 F] for three</td>\n",
       "    </tr>\n",
       "    <tr>\n",
       "      <th>2018-01-12 08:16:57</th>\n",
       "      <th>0</th>\n",
       "      <td>from my bf [25/M] of 2</td>\n",
       "    </tr>\n",
       "    <tr>\n",
       "      <th>2018-01-12 08:14:48</th>\n",
       "      <th>0</th>\n",
       "      <td>feelings for girl (23F) who</td>\n",
       "    </tr>\n",
       "    <tr>\n",
       "      <th>2018-01-12 08:14:37</th>\n",
       "      <th>0</th>\n",
       "      <td>girlfriend (21f) thinks I</td>\n",
       "    </tr>\n",
       "  </tbody>\n",
       "</table>\n",
       "<p>278988 rows × 1 columns</p>\n",
       "</div>"
      ],
      "text/plain": [
       "                                                               0\n",
       "created             match                                       \n",
       "2011-01-17 19:51:41 0                            on my ex (F-22)\n",
       "2011-03-01 20:24:18 0         weird about me (m31) sleeping over\n",
       "2011-04-15 11:24:28 0       Stressed out student[M,18] living at\n",
       "2011-07-05 22:06:35 0          im moving 30miles (1hr) away from\n",
       "2011-08-05 03:19:10 0                           with my GF (32f)\n",
       "2011-10-12 10:10:59 0                     Should I (f/24) make a\n",
       "2011-10-20 10:13:14 0                           First post [20M]\n",
       "2011-11-01 06:07:24 0                relationship with her [24f]\n",
       "2011-10-31 18:24:13 0                   She (32f) wants children\n",
       "2011-11-02 06:43:10 0                          not a troll [M22]\n",
       "2011-11-29 04:02:31 0                                quiet (M27)\n",
       "                    1                      She (F27) is outgoing\n",
       "2012-01-07 03:36:26 0                sure if I (24-f) should end\n",
       "                    1                   with a man (25-f) I love\n",
       "2012-01-14 19:32:57 0                      my sister (21F) is in\n",
       "                    1              abusive codependent man (25M)\n",
       "2012-01-16 14:24:41 0                  My girlfriend (20) is not\n",
       "                    1             attracted to me (23) or anyone\n",
       "2012-01-23 15:44:23 0                 take his son (4) away with\n",
       "2012-03-27 12:57:03 0                              who is (18/m)\n",
       "2012-04-10 09:33:24 0                        with a friend(F/21)\n",
       "2012-04-14 14:36:37 0       manipulative and I [22/M] kinda want\n",
       "2012-04-20 15:48:21 0              How do I (21M) make something\n",
       "                    1                      happen with her (20F)\n",
       "2012-04-24 13:03:45 0         need some advice [20]M friendzoned\n",
       "2012-04-30 11:43:46 0                       a weird place [22F] \n",
       "2012-05-10 07:08:19 0                   relationship (16) at the\n",
       "2012-05-09 19:53:04 0                   My girlfriend(22) lost a\n",
       "2012-05-11 15:45:09 0                    related aunt (31) and I\n",
       "2012-05-14 20:32:52 0                       My crush M[22] is my\n",
       "...                                                          ...\n",
       "2018-01-12 10:28:14 0                        Myself (24M) and my\n",
       "2018-01-12 10:14:54 0                   with my wife [28 F] of 4\n",
       "2018-01-12 10:11:26 0                potential good friend [20F]\n",
       "2018-01-12 10:10:48 0                         with my son [26 M]\n",
       "2018-01-12 10:08:59 0                 dating a girl [f 21] for 2\n",
       "2018-01-12 09:58:11 0                      boyfriend [25 M] of 2\n",
       "2018-01-12 09:45:54 0                      mom [55F] totaled her\n",
       "2018-01-12 09:35:01 0                     with my BF [28 M] of 1\n",
       "2018-01-12 09:28:20 0                        my baby daddy [39M]\n",
       "2018-01-12 09:28:15 0                        dad [58m] read some\n",
       "                    1        things my boyfriend [18m] has given\n",
       "2018-01-12 09:22:52 0                   with my GF [21 F] 1 Year\n",
       "2018-01-12 09:17:27 0               with best friend (16F) and I\n",
       "2018-01-12 09:15:02 0                            love him [32M] \n",
       "2018-01-12 09:07:54 0                     How can I [26F] have a\n",
       "2018-01-12 09:02:26 0               Unsure if I[20 M] should get\n",
       "                    1                  with my ex [18 F] after a\n",
       "2018-01-12 09:00:08 0                  coworker [70m] thinks our\n",
       "                    1             other coworker [50f] stole his\n",
       "2018-01-12 08:44:51 0              with my boyfriend [26 M] of 6\n",
       "2018-01-12 08:41:51 0            new girlfriend [21F] slept with\n",
       "2018-01-12 08:31:12 0             and best friend [25 F] 4 years\n",
       "2018-01-12 08:26:18 0                          with my BF [24 M]\n",
       "2018-01-12 08:25:53 0                resent my mum [60f] for the\n",
       "                    1                        treats my dad [60f]\n",
       "2018-01-12 08:20:20 0                my former BFF [35 F] of two\n",
       "2018-01-12 08:18:43 0      dating my girlfriend [23 F] for three\n",
       "2018-01-12 08:16:57 0                     from my bf [25/M] of 2\n",
       "2018-01-12 08:14:48 0                feelings for girl (23F) who\n",
       "2018-01-12 08:14:37 0                  girlfriend (21f) thinks I\n",
       "\n",
       "[278988 rows x 1 columns]"
      ]
     },
     "execution_count": 12,
     "metadata": {},
     "output_type": "execute_result"
    }
   ],
   "source": [
    "age_chunk = df_age.title.str.extractall(r'(\\w+?\\s?\\w+?\\s?\\w+?\\s?[\\(\\[].?.?\\d+.?.?[\\]\\)]\\s?\\w*\\s?\\w*)')\n",
    "age_chunk"
   ]
  },
  {
   "cell_type": "code",
   "execution_count": 13,
   "metadata": {
    "ExecuteTime": {
     "end_time": "2018-01-17T16:09:57.684990Z",
     "start_time": "2018-01-17T16:09:57.680987Z"
    }
   },
   "outputs": [
    {
     "data": {
      "text/plain": [
       "-6918"
      ]
     },
     "execution_count": 13,
     "metadata": {},
     "output_type": "execute_result"
    }
   ],
   "source": [
    "abs(len(age_chunk) - len(df_age))"
   ]
  },
  {
   "cell_type": "code",
   "execution_count": null,
   "metadata": {},
   "outputs": [],
   "source": []
  },
  {
   "cell_type": "code",
   "execution_count": null,
   "metadata": {},
   "outputs": [],
   "source": []
  }
 ],
 "metadata": {
  "hide_input": false,
  "kernelspec": {
   "display_name": "Python 3",
   "language": "python",
   "name": "python3"
  },
  "language_info": {
   "codemirror_mode": {
    "name": "ipython",
    "version": 3
   },
   "file_extension": ".py",
   "mimetype": "text/x-python",
   "name": "python",
   "nbconvert_exporter": "python",
   "pygments_lexer": "ipython3",
   "version": "3.6.4"
  }
 },
 "nbformat": 4,
 "nbformat_minor": 1
}
