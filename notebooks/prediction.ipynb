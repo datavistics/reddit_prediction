{
 "cells": [
  {
   "cell_type": "markdown",
   "metadata": {},
   "source": [
    "# Reddit /r/relationships Title Prediction\n",
    "## Setup\n",
    "I start by using a preprocessed [pickle file](https://pandas.pydata.org/pandas-docs/stable/generated/pandas.DataFrame.to_pickle.html). I would happily use feather, but they [dont have datetimes figured out yet](https://github.com/wesm/feather/issues/121). I added the time featured I wanted, so this notebook could focus on prediction."
   ]
  },
  {
   "cell_type": "code",
   "execution_count": 1,
   "metadata": {
    "ExecuteTime": {
     "end_time": "2018-01-22T08:47:12.938640Z",
     "start_time": "2018-01-22T08:47:11.773932Z"
    }
   },
   "outputs": [],
   "source": [
    "%matplotlib inline\n",
    "\n",
    "import pandas as pd\n",
    "from pathlib import Path\n",
    "import sqlite3\n",
    "from matplotlib import pyplot as plt\n",
    "import re\n",
    "import numpy as np\n",
    "import math\n",
    "from random import random, sample, seed\n",
    "import sys\n",
    "\n",
    "project_dir = Path.cwd().parent\n",
    "dataframe_path = project_dir/'data'/'processed'/'added_time_features.pickle'\n",
    "embeddings_path = project_dir/'data'/'external'/'glove.twitter.27B.200d.txt'\n",
    "\n",
    "sys.path.append(str(project_dir/'src'))\n",
    "from features import utilities\n",
    "\n",
    "plt.style.use('ggplot')\n",
    "\n",
    "df = pd.read_pickle(dataframe_path)"
   ]
  },
  {
   "cell_type": "code",
   "execution_count": 2,
   "metadata": {
    "ExecuteTime": {
     "end_time": "2018-01-22T08:47:12.967658Z",
     "start_time": "2018-01-22T08:47:12.939634Z"
    }
   },
   "outputs": [
    {
     "data": {
      "text/html": [
       "<div>\n",
       "<style scoped>\n",
       "    .dataframe tbody tr th:only-of-type {\n",
       "        vertical-align: middle;\n",
       "    }\n",
       "\n",
       "    .dataframe tbody tr th {\n",
       "        vertical-align: top;\n",
       "    }\n",
       "\n",
       "    .dataframe thead th {\n",
       "        text-align: right;\n",
       "    }\n",
       "</style>\n",
       "<table border=\"1\" class=\"dataframe\">\n",
       "  <thead>\n",
       "    <tr style=\"text-align: right;\">\n",
       "      <th></th>\n",
       "      <th>id</th>\n",
       "      <th>author</th>\n",
       "      <th>downs</th>\n",
       "      <th>edited</th>\n",
       "      <th>edited_date</th>\n",
       "      <th>locked</th>\n",
       "      <th>name</th>\n",
       "      <th>num_comments</th>\n",
       "      <th>permalink</th>\n",
       "      <th>score</th>\n",
       "      <th>...</th>\n",
       "      <th>month</th>\n",
       "      <th>dayofyear</th>\n",
       "      <th>dayofweek</th>\n",
       "      <th>hour</th>\n",
       "      <th>minute</th>\n",
       "      <th>second</th>\n",
       "      <th>edited_delta</th>\n",
       "      <th>edited_delta_min</th>\n",
       "      <th>edited_delta_hour</th>\n",
       "      <th>edited_delta_day</th>\n",
       "    </tr>\n",
       "    <tr>\n",
       "      <th>created</th>\n",
       "      <th></th>\n",
       "      <th></th>\n",
       "      <th></th>\n",
       "      <th></th>\n",
       "      <th></th>\n",
       "      <th></th>\n",
       "      <th></th>\n",
       "      <th></th>\n",
       "      <th></th>\n",
       "      <th></th>\n",
       "      <th></th>\n",
       "      <th></th>\n",
       "      <th></th>\n",
       "      <th></th>\n",
       "      <th></th>\n",
       "      <th></th>\n",
       "      <th></th>\n",
       "      <th></th>\n",
       "      <th></th>\n",
       "      <th></th>\n",
       "      <th></th>\n",
       "    </tr>\n",
       "  </thead>\n",
       "  <tbody>\n",
       "    <tr>\n",
       "      <th>2009-04-27 23:48:55</th>\n",
       "      <td>8fs8j</td>\n",
       "      <td>mydearlove</td>\n",
       "      <td>0</td>\n",
       "      <td>0</td>\n",
       "      <td>2009-04-27 23:48:55</td>\n",
       "      <td>1</td>\n",
       "      <td>t3_8fs8j</td>\n",
       "      <td>1</td>\n",
       "      <td>/r/relationships/comments/8fs8j/love_poems/</td>\n",
       "      <td>1</td>\n",
       "      <td>...</td>\n",
       "      <td>4</td>\n",
       "      <td>117</td>\n",
       "      <td>0</td>\n",
       "      <td>23</td>\n",
       "      <td>48</td>\n",
       "      <td>55</td>\n",
       "      <td>0 days</td>\n",
       "      <td>0.0</td>\n",
       "      <td>0.0</td>\n",
       "      <td>0</td>\n",
       "    </tr>\n",
       "    <tr>\n",
       "      <th>2009-07-05 04:12:37</th>\n",
       "      <td>8y7am</td>\n",
       "      <td>Ashley89</td>\n",
       "      <td>0</td>\n",
       "      <td>0</td>\n",
       "      <td>2009-07-05 04:12:37</td>\n",
       "      <td>1</td>\n",
       "      <td>t3_8y7am</td>\n",
       "      <td>0</td>\n",
       "      <td>/r/relationships/comments/8y7am/when_shes_gone/</td>\n",
       "      <td>2</td>\n",
       "      <td>...</td>\n",
       "      <td>7</td>\n",
       "      <td>186</td>\n",
       "      <td>6</td>\n",
       "      <td>4</td>\n",
       "      <td>12</td>\n",
       "      <td>37</td>\n",
       "      <td>0 days</td>\n",
       "      <td>0.0</td>\n",
       "      <td>0.0</td>\n",
       "      <td>0</td>\n",
       "    </tr>\n",
       "    <tr>\n",
       "      <th>2009-07-14 03:09:45</th>\n",
       "      <td>90r8g</td>\n",
       "      <td>mrggfep</td>\n",
       "      <td>0</td>\n",
       "      <td>0</td>\n",
       "      <td>2009-07-14 03:09:45</td>\n",
       "      <td>1</td>\n",
       "      <td>t3_90r8g</td>\n",
       "      <td>0</td>\n",
       "      <td>/r/relationships/comments/90r8g/men_have_it_ro...</td>\n",
       "      <td>2</td>\n",
       "      <td>...</td>\n",
       "      <td>7</td>\n",
       "      <td>195</td>\n",
       "      <td>1</td>\n",
       "      <td>3</td>\n",
       "      <td>9</td>\n",
       "      <td>45</td>\n",
       "      <td>0 days</td>\n",
       "      <td>0.0</td>\n",
       "      <td>0.0</td>\n",
       "      <td>0</td>\n",
       "    </tr>\n",
       "    <tr>\n",
       "      <th>2009-07-21 22:40:00</th>\n",
       "      <td>933x1</td>\n",
       "      <td>iamverybroke</td>\n",
       "      <td>0</td>\n",
       "      <td>0</td>\n",
       "      <td>2009-07-21 22:40:00</td>\n",
       "      <td>1</td>\n",
       "      <td>t3_933x1</td>\n",
       "      <td>1</td>\n",
       "      <td>/r/relationships/comments/933x1/broken_friends...</td>\n",
       "      <td>1</td>\n",
       "      <td>...</td>\n",
       "      <td>7</td>\n",
       "      <td>202</td>\n",
       "      <td>1</td>\n",
       "      <td>22</td>\n",
       "      <td>40</td>\n",
       "      <td>0</td>\n",
       "      <td>0 days</td>\n",
       "      <td>0.0</td>\n",
       "      <td>0.0</td>\n",
       "      <td>0</td>\n",
       "    </tr>\n",
       "    <tr>\n",
       "      <th>2009-07-24 10:55:00</th>\n",
       "      <td>9406p</td>\n",
       "      <td>KamerKween</td>\n",
       "      <td>0</td>\n",
       "      <td>0</td>\n",
       "      <td>2009-07-24 10:55:00</td>\n",
       "      <td>1</td>\n",
       "      <td>t3_9406p</td>\n",
       "      <td>1</td>\n",
       "      <td>/r/relationships/comments/9406p/some_relations...</td>\n",
       "      <td>0</td>\n",
       "      <td>...</td>\n",
       "      <td>7</td>\n",
       "      <td>205</td>\n",
       "      <td>4</td>\n",
       "      <td>10</td>\n",
       "      <td>55</td>\n",
       "      <td>0</td>\n",
       "      <td>0 days</td>\n",
       "      <td>0.0</td>\n",
       "      <td>0.0</td>\n",
       "      <td>0</td>\n",
       "    </tr>\n",
       "  </tbody>\n",
       "</table>\n",
       "<p>5 rows × 23 columns</p>\n",
       "</div>"
      ],
      "text/plain": [
       "                        id        author  downs  edited         edited_date  \\\n",
       "created                                                                       \n",
       "2009-04-27 23:48:55  8fs8j    mydearlove      0       0 2009-04-27 23:48:55   \n",
       "2009-07-05 04:12:37  8y7am      Ashley89      0       0 2009-07-05 04:12:37   \n",
       "2009-07-14 03:09:45  90r8g       mrggfep      0       0 2009-07-14 03:09:45   \n",
       "2009-07-21 22:40:00  933x1  iamverybroke      0       0 2009-07-21 22:40:00   \n",
       "2009-07-24 10:55:00  9406p    KamerKween      0       0 2009-07-24 10:55:00   \n",
       "\n",
       "                     locked      name  num_comments  \\\n",
       "created                                               \n",
       "2009-04-27 23:48:55       1  t3_8fs8j             1   \n",
       "2009-07-05 04:12:37       1  t3_8y7am             0   \n",
       "2009-07-14 03:09:45       1  t3_90r8g             0   \n",
       "2009-07-21 22:40:00       1  t3_933x1             1   \n",
       "2009-07-24 10:55:00       1  t3_9406p             1   \n",
       "\n",
       "                                                             permalink  score  \\\n",
       "created                                                                         \n",
       "2009-04-27 23:48:55        /r/relationships/comments/8fs8j/love_poems/      1   \n",
       "2009-07-05 04:12:37    /r/relationships/comments/8y7am/when_shes_gone/      2   \n",
       "2009-07-14 03:09:45  /r/relationships/comments/90r8g/men_have_it_ro...      2   \n",
       "2009-07-21 22:40:00  /r/relationships/comments/933x1/broken_friends...      1   \n",
       "2009-07-24 10:55:00  /r/relationships/comments/9406p/some_relations...      0   \n",
       "\n",
       "                          ...        month  dayofyear  dayofweek  hour  \\\n",
       "created                   ...                                            \n",
       "2009-04-27 23:48:55       ...            4        117          0    23   \n",
       "2009-07-05 04:12:37       ...            7        186          6     4   \n",
       "2009-07-14 03:09:45       ...            7        195          1     3   \n",
       "2009-07-21 22:40:00       ...            7        202          1    22   \n",
       "2009-07-24 10:55:00       ...            7        205          4    10   \n",
       "\n",
       "                     minute  second  edited_delta  edited_delta_min  \\\n",
       "created                                                               \n",
       "2009-04-27 23:48:55      48      55        0 days               0.0   \n",
       "2009-07-05 04:12:37      12      37        0 days               0.0   \n",
       "2009-07-14 03:09:45       9      45        0 days               0.0   \n",
       "2009-07-21 22:40:00      40       0        0 days               0.0   \n",
       "2009-07-24 10:55:00      55       0        0 days               0.0   \n",
       "\n",
       "                     edited_delta_hour edited_delta_day  \n",
       "created                                                  \n",
       "2009-04-27 23:48:55                0.0                0  \n",
       "2009-07-05 04:12:37                0.0                0  \n",
       "2009-07-14 03:09:45                0.0                0  \n",
       "2009-07-21 22:40:00                0.0                0  \n",
       "2009-07-24 10:55:00                0.0                0  \n",
       "\n",
       "[5 rows x 23 columns]"
      ]
     },
     "execution_count": 2,
     "metadata": {},
     "output_type": "execute_result"
    }
   ],
   "source": [
    "df.head()"
   ]
  },
  {
   "cell_type": "code",
   "execution_count": 3,
   "metadata": {
    "ExecuteTime": {
     "end_time": "2018-01-22T08:47:13.194858Z",
     "start_time": "2018-01-22T08:47:12.969654Z"
    }
   },
   "outputs": [],
   "source": [
    "title = df.title\n",
    "score = df.score\n",
    "num_comments = df.num_comments\n",
    "\n",
    "year = df.year\n",
    "month = df.month\n",
    "dayofyear = df.dayofyear\n",
    "dayofweek = df.dayofweek\n",
    "hour = df.hour\n",
    "minute = df.minute\n",
    "second = df.second\n",
    "edited_delta_min = df.edited_delta_min\n",
    "edited_delta_hour = df.edited_delta_hour\n",
    "edited_delta_day = df.edited_delta_day"
   ]
  },
  {
   "cell_type": "code",
   "execution_count": 4,
   "metadata": {
    "ExecuteTime": {
     "end_time": "2018-01-22T08:47:20.612763Z",
     "start_time": "2018-01-22T08:47:13.195851Z"
    }
   },
   "outputs": [
    {
     "name": "stderr",
     "output_type": "stream",
     "text": [
      "Using TensorFlow backend.\n"
     ]
    },
    {
     "name": "stdout",
     "output_type": "stream",
     "text": [
      "OrderedDict([('love', 11585), ('poems', 3), ('when', 9673), (\"she's\", 5945), ('gone', 945), ('men', \n",
      "{'my': 1, 'i': 2, 'me': 3, 'with': 4, 'to': 5, 'm': 6, 'and': 7, 'f': 8, 'a': 9, 'of': 10, 'is': 11,\n",
      "30460\n"
     ]
    }
   ],
   "source": [
    "from keras.preprocessing import sequence\n",
    "from keras.preprocessing.text import text_to_word_sequence, Tokenizer\n",
    "\n",
    "max_features = 40000\n",
    "\n",
    "word_tokenizer = Tokenizer(max_features)\n",
    "word_tokenizer.fit_on_texts(title)\n",
    "\n",
    "print(str(word_tokenizer.word_counts)[0:100])\n",
    "print(str(word_tokenizer.word_index)[0:100])\n",
    "print(len(word_tokenizer.word_counts))"
   ]
  },
  {
   "cell_type": "code",
   "execution_count": 5,
   "metadata": {
    "ExecuteTime": {
     "end_time": "2018-01-22T08:47:24.885782Z",
     "start_time": "2018-01-22T08:47:20.614770Z"
    }
   },
   "outputs": [
    {
     "name": "stdout",
     "output_type": "stream",
     "text": [
      "309982\n"
     ]
    }
   ],
   "source": [
    "title_tf = word_tokenizer.texts_to_sequences(title)\n",
    "\n",
    "print(len(title_tf))"
   ]
  },
  {
   "cell_type": "code",
   "execution_count": 6,
   "metadata": {
    "ExecuteTime": {
     "end_time": "2018-01-22T08:47:26.366607Z",
     "start_time": "2018-01-22T08:47:24.886786Z"
    }
   },
   "outputs": [
    {
     "data": {
      "text/plain": [
       "(array([  6.80000000e+01,   4.60000000e+02,   1.01600000e+03,\n",
       "          1.54400000e+03,   2.35000000e+03,   3.23000000e+03,\n",
       "          4.60000000e+03,   6.01800000e+03,   7.79700000e+03,\n",
       "          9.64600000e+03,   1.16330000e+04,   1.33220000e+04,\n",
       "          1.54050000e+04,   1.67590000e+04,   1.80820000e+04,\n",
       "          1.86880000e+04,   1.89560000e+04,   1.80060000e+04,\n",
       "          1.76470000e+04,   1.62790000e+04,   1.48770000e+04,\n",
       "          1.31380000e+04,   1.14810000e+04,   1.01860000e+04,\n",
       "          8.67800000e+03,   7.63900000e+03,   6.50700000e+03,\n",
       "          5.43700000e+03,   4.63300000e+03,   3.93500000e+03,\n",
       "          3.18400000e+03,   2.75600000e+03,   2.30700000e+03,\n",
       "          1.96000000e+03,   1.71600000e+03,   1.47600000e+03,\n",
       "          1.20000000e+03,   1.03500000e+03,   9.48000000e+02,\n",
       "          7.65000000e+02,   6.37000000e+02,   5.48000000e+02,\n",
       "          4.97000000e+02,   3.87000000e+02,   3.41000000e+02,\n",
       "          3.18000000e+02,   2.71000000e+02,   2.47000000e+02,\n",
       "          2.14000000e+02,   1.79000000e+02,   1.85000000e+02,\n",
       "          1.47000000e+02,   1.17000000e+02,   1.12000000e+02,\n",
       "          9.50000000e+01,   8.50000000e+01,   7.30000000e+01,\n",
       "          5.10000000e+01,   3.80000000e+01,   2.30000000e+01,\n",
       "          2.30000000e+01,   1.40000000e+01,   7.00000000e+00,\n",
       "          8.00000000e+00,   0.00000000e+00,   0.00000000e+00,\n",
       "          1.00000000e+00]),\n",
       " array([  1.        ,   1.98507463,   2.97014925,   3.95522388,\n",
       "          4.94029851,   5.92537313,   6.91044776,   7.89552239,\n",
       "          8.88059701,   9.86567164,  10.85074627,  11.8358209 ,\n",
       "         12.82089552,  13.80597015,  14.79104478,  15.7761194 ,\n",
       "         16.76119403,  17.74626866,  18.73134328,  19.71641791,\n",
       "         20.70149254,  21.68656716,  22.67164179,  23.65671642,\n",
       "         24.64179104,  25.62686567,  26.6119403 ,  27.59701493,\n",
       "         28.58208955,  29.56716418,  30.55223881,  31.53731343,\n",
       "         32.52238806,  33.50746269,  34.49253731,  35.47761194,\n",
       "         36.46268657,  37.44776119,  38.43283582,  39.41791045,\n",
       "         40.40298507,  41.3880597 ,  42.37313433,  43.35820896,\n",
       "         44.34328358,  45.32835821,  46.31343284,  47.29850746,\n",
       "         48.28358209,  49.26865672,  50.25373134,  51.23880597,\n",
       "         52.2238806 ,  53.20895522,  54.19402985,  55.17910448,\n",
       "         56.1641791 ,  57.14925373,  58.13432836,  59.11940299,\n",
       "         60.10447761,  61.08955224,  62.07462687,  63.05970149,\n",
       "         64.04477612,  65.02985075,  66.01492537,  67.        ]),\n",
       " <a list of 67 Patch objects>)"
      ]
     },
     "execution_count": 6,
     "metadata": {},
     "output_type": "execute_result"
    },
    {
     "data": {
      "image/png": "[encoded data removed]",
      "text/plain": [
       "<matplotlib.figure.Figure at 0x17e4023af28>"
      ]
     },
     "metadata": {},
     "output_type": "display_data"
    }
   ],
   "source": [
    "plt.hist((df.title.str.split().apply(len)), bins=67)"
   ]
  },
  {
   "cell_type": "code",
   "execution_count": 7,
   "metadata": {
    "ExecuteTime": {
     "end_time": "2018-01-22T08:47:27.995756Z",
     "start_time": "2018-01-22T08:47:26.368607Z"
    }
   },
   "outputs": [
    {
     "name": "stdout",
     "output_type": "stream",
     "text": [
      "[    0     0     0     0     0     0     0     0     0     0     0     0\n",
      "     0     0     0     0     0     0     0     0     0     0     0     0\n",
      "     0     0     0     0     0     0     0     0     0     0     0     0\n",
      "     0     0    99 12138]\n"
     ]
    }
   ],
   "source": [
    "maxlen = 40 \n",
    "title_tf = sequence.pad_sequences(title_tf, maxlen=maxlen)\n",
    "\n",
    "print(title_tf[0])"
   ]
  },
  {
   "cell_type": "code",
   "execution_count": 8,
   "metadata": {
    "ExecuteTime": {
     "end_time": "2018-01-22T08:48:41.429665Z",
     "start_time": "2018-01-22T08:47:28.003765Z"
    }
   },
   "outputs": [
    {
     "name": "stdout",
     "output_type": "stream",
     "text": [
      "[  1.96400000e-01   6.71530000e-01   6.29760000e-03   2.53590000e-01\n",
      "  -4.20970000e-01   3.84900000e-01   1.03780000e+00  -1.85360000e-01\n",
      "  -5.42440000e-02  -1.08560000e-01   1.21460000e-01   4.76920000e-02\n",
      "  -9.32280000e-01  -2.71920000e-01  -3.50600000e-01   1.10690000e-01\n",
      "  -5.50990000e-02  -7.96580000e-02   1.17670000e-02   1.43950000e-01\n",
      "  -2.59170000e-02  -1.82530000e-01   2.56910000e-02   1.96190000e-01\n",
      "   1.03340000e-01   1.07310000e+00   4.19920000e-01   1.70830000e-01\n",
      "   9.15960000e-01  -4.33980000e-01   1.64640000e-01   1.27150000e-02\n",
      "   9.54770000e-02   1.44900000e-01  -2.96520000e-01  -1.06420000e-01\n",
      "   9.83890000e-02   1.79370000e-01   2.32890000e-01  -2.22090000e-01\n",
      "   8.77700000e-02  -1.80050000e-01   3.86780000e-01  -3.20590000e-02\n",
      "   1.20200000e-01  -4.17410000e-01   2.68270000e-01  -1.97690000e-01\n",
      "   2.19760000e-02  -2.35850000e-01   1.47890000e-01   1.01730000e-01\n",
      "  -1.03800000e-01  -3.19540000e-01   6.33080000e-01  -5.11420000e-02\n",
      "  -5.32090000e-02   2.93780000e-01  -5.43950000e-02   4.33460000e-05\n",
      "   2.55850000e-01  -1.80480000e-01  -2.70300000e-01   7.77830000e-03\n",
      "   6.35850000e-01   1.48690000e-01  -1.08540000e-01  -2.47260000e-01\n",
      "  -1.08690000e-01  -2.41470000e-01   2.80590000e-01   1.36450000e-01\n",
      "  -3.56100000e-02  -6.82580000e-01   1.19570000e-01   1.10850000e-02\n",
      "  -1.37710000e-02  -1.76030000e-01  -5.78260000e-01  -4.15710000e-02\n",
      "  -1.23420000e-01   5.80910000e-01  -4.44460000e-02   1.48330000e-01\n",
      "  -8.15760000e-02  -1.58040000e-01  -4.38680000e-01  -9.02960000e-02\n",
      "  -2.78910000e-01  -3.28870000e-02   1.16880000e-01   5.48370000e-02\n",
      "   1.00820000e-01   2.45190000e-01   1.50620000e-01   3.80640000e-02\n",
      "  -2.58510000e-01  -2.34460000e-01   6.41980000e-02   1.22550000e-01\n",
      "  -5.25370000e-01   3.33500000e-01  -2.33230000e-01  -2.57800000e-01\n",
      "   2.90350000e-01   1.34830000e-01   6.58760000e-02   3.83220000e-01\n",
      "   1.12370000e-01  -2.30380000e-03  -2.81840000e-01   1.77240000e-01\n",
      "   5.67590000e-01   2.43860000e-01  -4.02270000e-02  -4.50240000e-02\n",
      "  -3.41850000e-01  -4.14550000e-01  -4.11100000e-02   2.24380000e-01\n",
      "  -1.16260000e-01   2.07440000e-01  -1.18590000e-01  -7.75850000e-02\n",
      "   3.30580000e-01  -2.80580000e-01   4.90340000e-02  -1.94820000e-01\n",
      "   6.72830000e-02   3.00700000e-02   6.97420000e-02  -1.38610000e-01\n",
      "   6.20410000e-01   3.80050000e-01  -5.05330000e-02   9.73780000e-02\n",
      "   2.78740000e-01  -1.73880000e-01   3.70210000e-01  -6.65930000e-01\n",
      "   1.47690000e-01  -6.31420000e-02  -1.20920000e-01   3.76390000e-01\n",
      "  -2.03160000e-01   3.64950000e-01   2.54220000e-01   1.67740000e-01\n",
      "   5.02560000e-02   5.46270000e-02   1.06530000e-01  -7.08590000e-02\n",
      "  -6.79860000e+00   4.05610000e-01  -3.80710000e-01   3.20750000e-01\n",
      "  -3.35450000e-01  -1.55990000e-02  -4.61920000e-01   2.98600000e-01\n",
      "   5.17560000e-01  -1.71360000e-01  -8.34540000e-01  -1.44960000e-01\n",
      "  -3.65530000e-01  -1.86360000e-01   1.01030000e-01   3.66160000e-01\n",
      "   1.31100000e-01   5.18640000e-01  -4.15210000e-01  -1.96500000e-01\n",
      "  -6.87400000e-03  -1.47220000e-02  -3.31980000e-01   1.31650000e-01\n",
      "   2.94920000e-01  -1.97960000e-01  -2.83740000e-01  -1.45320000e-01\n",
      "   1.95470000e-01   1.11380000e-01   1.20320000e-01   2.18490000e-01\n",
      "   4.75850000e-01  -7.89590000e-01   3.07500000e-01   1.07150000e-02\n",
      "  -2.11460000e-01  -2.06190000e-02  -1.15180000e-01   5.53630000e-01\n",
      "  -1.85000000e-01  -1.96530000e-01   1.05660000e-01  -2.62140000e-01\n",
      "   2.03970000e-01  -3.08150000e-01  -1.23120000e-01   4.89260000e-02]\n"
     ]
    }
   ],
   "source": [
    "embedding_vectors = utilities.get_embeddings(embeddings_path)\n",
    "        \n",
    "print(embedding_vectors['you'])"
   ]
  },
  {
   "cell_type": "code",
   "execution_count": 9,
   "metadata": {
    "ExecuteTime": {
     "end_time": "2018-01-22T08:48:41.536741Z",
     "start_time": "2018-01-22T08:48:41.430666Z"
    }
   },
   "outputs": [
    {
     "name": "stdout",
     "output_type": "stream",
     "text": [
      "[[  0.00000000e+00   0.00000000e+00   0.00000000e+00   0.00000000e+00\n",
      "    0.00000000e+00   0.00000000e+00   0.00000000e+00   0.00000000e+00\n",
      "    0.00000000e+00   0.00000000e+00   0.00000000e+00   0.00000000e+00\n",
      "    0.00000000e+00   0.00000000e+00   0.00000000e+00   0.00000000e+00\n",
      "    0.00000000e+00   0.00000000e+00   0.00000000e+00   0.00000000e+00\n",
      "    0.00000000e+00   0.00000000e+00   0.00000000e+00   0.00000000e+00\n",
      "    0.00000000e+00   0.00000000e+00   0.00000000e+00   0.00000000e+00\n",
      "    0.00000000e+00   0.00000000e+00   0.00000000e+00   0.00000000e+00\n",
      "    0.00000000e+00   0.00000000e+00   0.00000000e+00   0.00000000e+00\n",
      "    0.00000000e+00   0.00000000e+00   0.00000000e+00   0.00000000e+00\n",
      "    0.00000000e+00   0.00000000e+00   0.00000000e+00   0.00000000e+00\n",
      "    0.00000000e+00   0.00000000e+00   0.00000000e+00   0.00000000e+00\n",
      "    0.00000000e+00   0.00000000e+00   0.00000000e+00   0.00000000e+00\n",
      "    0.00000000e+00   0.00000000e+00   0.00000000e+00   0.00000000e+00\n",
      "    0.00000000e+00   0.00000000e+00   0.00000000e+00   0.00000000e+00\n",
      "    0.00000000e+00   0.00000000e+00   0.00000000e+00   0.00000000e+00\n",
      "    0.00000000e+00   0.00000000e+00   0.00000000e+00   0.00000000e+00\n",
      "    0.00000000e+00   0.00000000e+00   0.00000000e+00   0.00000000e+00\n",
      "    0.00000000e+00   0.00000000e+00   0.00000000e+00   0.00000000e+00\n",
      "    0.00000000e+00   0.00000000e+00   0.00000000e+00   0.00000000e+00\n",
      "    0.00000000e+00   0.00000000e+00   0.00000000e+00   0.00000000e+00\n",
      "    0.00000000e+00   0.00000000e+00   0.00000000e+00   0.00000000e+00\n",
      "    0.00000000e+00   0.00000000e+00   0.00000000e+00   0.00000000e+00\n",
      "    0.00000000e+00   0.00000000e+00   0.00000000e+00   0.00000000e+00\n",
      "    0.00000000e+00   0.00000000e+00   0.00000000e+00   0.00000000e+00\n",
      "    0.00000000e+00   0.00000000e+00   0.00000000e+00   0.00000000e+00\n",
      "    0.00000000e+00   0.00000000e+00   0.00000000e+00   0.00000000e+00\n",
      "    0.00000000e+00   0.00000000e+00   0.00000000e+00   0.00000000e+00\n",
      "    0.00000000e+00   0.00000000e+00   0.00000000e+00   0.00000000e+00\n",
      "    0.00000000e+00   0.00000000e+00   0.00000000e+00   0.00000000e+00\n",
      "    0.00000000e+00   0.00000000e+00   0.00000000e+00   0.00000000e+00\n",
      "    0.00000000e+00   0.00000000e+00   0.00000000e+00   0.00000000e+00\n",
      "    0.00000000e+00   0.00000000e+00   0.00000000e+00   0.00000000e+00\n",
      "    0.00000000e+00   0.00000000e+00   0.00000000e+00   0.00000000e+00\n",
      "    0.00000000e+00   0.00000000e+00   0.00000000e+00   0.00000000e+00\n",
      "    0.00000000e+00   0.00000000e+00   0.00000000e+00   0.00000000e+00\n",
      "    0.00000000e+00   0.00000000e+00   0.00000000e+00   0.00000000e+00\n",
      "    0.00000000e+00   0.00000000e+00   0.00000000e+00   0.00000000e+00\n",
      "    0.00000000e+00   0.00000000e+00   0.00000000e+00   0.00000000e+00\n",
      "    0.00000000e+00   0.00000000e+00   0.00000000e+00   0.00000000e+00\n",
      "    0.00000000e+00   0.00000000e+00   0.00000000e+00   0.00000000e+00\n",
      "    0.00000000e+00   0.00000000e+00   0.00000000e+00   0.00000000e+00\n",
      "    0.00000000e+00   0.00000000e+00   0.00000000e+00   0.00000000e+00\n",
      "    0.00000000e+00   0.00000000e+00   0.00000000e+00   0.00000000e+00\n",
      "    0.00000000e+00   0.00000000e+00   0.00000000e+00   0.00000000e+00\n",
      "    0.00000000e+00   0.00000000e+00   0.00000000e+00   0.00000000e+00\n",
      "    0.00000000e+00   0.00000000e+00   0.00000000e+00   0.00000000e+00\n",
      "    0.00000000e+00   0.00000000e+00   0.00000000e+00   0.00000000e+00\n",
      "    0.00000000e+00   0.00000000e+00   0.00000000e+00   0.00000000e+00\n",
      "    0.00000000e+00   0.00000000e+00   0.00000000e+00   0.00000000e+00]\n",
      " [  4.73560000e-02  -1.02160000e-01  -1.57380000e-01  -4.52100000e-02\n",
      "    2.64550000e-01   1.17760000e-02   5.85360000e-01  -2.59940000e-02\n",
      "   -3.19080000e-01  -3.22140000e-01   8.06270000e-02   1.53180000e-01\n",
      "   -1.27990000e+00   1.49960000e-01  -5.45590000e-01  -3.67810000e-01\n",
      "    2.86710000e-01  -2.07690000e-01  -3.06620000e-01  -3.60020000e-01\n",
      "    1.41380000e-01   1.85720000e-01   1.44200000e-01  -1.57350000e-02\n",
      "   -1.57080000e-01   1.07820000e+00   1.49160000e-01   1.31500000e-01\n",
      "    3.62070000e-01   1.17290000e-01  -5.79190000e-01   5.97170000e-02\n",
      "   -6.49280000e-01   2.41320000e-01  -2.79620000e-01  -2.16310000e-01\n",
      "    2.43590000e-01   2.96110000e-02   1.65100000e-01  -2.13740000e-01\n",
      "   -2.14090000e-01   4.75130000e-01   4.91740000e-01   1.26700000e-01\n",
      "   -1.69410000e-01  -2.12070000e-02   5.27260000e-01   3.48900000e-01\n",
      "    2.22990000e-01  -4.12130000e-01   2.07310000e-01  -4.20370000e-01\n",
      "   -5.31020000e-01  -1.37940000e-01   1.88670000e-01   2.82850000e-01\n",
      "   -1.64140000e-01   2.57130000e-01  -9.92390000e-02   3.98030000e-02\n",
      "   -1.84770000e-01  -2.62250000e-01  -2.54970000e-02  -1.48030000e-01\n",
      "    2.31280000e-01  -2.75270000e-01  -1.36020000e-01  -3.49920000e-01\n",
      "    3.47860000e-02  -5.18860000e-01  -3.19800000e-01   4.62000000e-02\n",
      "   -6.23550000e-01  -4.19620000e-02   4.24340000e-01   3.53340000e-01\n",
      "    1.24890000e-01  -6.13160000e-01   5.79200000e-02  -4.40880000e-01\n",
      "    2.97010000e-01   8.59280000e-01   4.25890000e-02  -2.17240000e-01\n",
      "   -5.06750000e-01  -4.08660000e-01  -5.20450000e-03  -9.86500000e-03\n",
      "   -3.08840000e-01   1.07000000e-02   9.56280000e-02   2.34660000e-02\n",
      "    4.25120000e-01  -4.96590000e-04  -4.41240000e-01   3.84880000e-02\n",
      "   -3.41240000e-01  -1.32750000e-02  -3.01450000e-01   2.81180000e-01\n",
      "   -1.98800000e-01  -3.83860000e-01  -1.18060000e-01   5.68330000e-01\n",
      "   -1.89570000e-01   1.48030000e-01  -1.41700000e-01  -7.22790000e-04\n",
      "   -7.05220000e-02   3.15040000e-02   2.07010000e-01  -1.99570000e-01\n",
      "   -2.54090000e-01   1.90040000e-01  -4.91530000e-01  -2.85270000e-01\n",
      "    2.66940000e-02  -1.27660000e-01  -1.51360000e-01   2.04410000e-03\n",
      "    7.18690000e-01   3.82040000e-02   9.58330000e-03   1.40510000e-01\n",
      "   -5.11650000e-02   7.03500000e-01   1.62550000e-01  -2.73010000e-01\n",
      "    1.13700000e-01   3.13760000e-01   5.82540000e-01  -5.08970000e-01\n",
      "    2.88150000e-01   1.13170000e-01   3.32930000e-01  -1.13960000e-01\n",
      "    9.14770000e-02   4.62490000e-01  -1.42230000e-01   6.74670000e-02\n",
      "    3.20370000e-01  -1.98290000e-01   3.27010000e-01  -1.26140000e-02\n",
      "    6.30490000e-03  -3.04560000e-01  -6.45720000e-02   1.42890000e-01\n",
      "    6.89660000e-02  -1.75530000e-01   3.15320000e-01   8.72240000e-02\n",
      "   -6.60700000e+00   3.28890000e-01  -2.48470000e-01   4.92080000e-01\n",
      "   -2.94950000e-01   2.51670000e-01  -7.46700000e-01  -6.37260000e-03\n",
      "    4.42620000e-01   1.16830000e-02  -8.37170000e-03   2.85110000e-01\n",
      "    1.97510000e-01   6.75330000e-02   4.81300000e-01  -1.45660000e-01\n",
      "   -3.08920000e-02  -1.07140000e-01   2.17530000e-01   1.59320000e-01\n",
      "    2.70610000e-01   2.86190000e-01  -1.30170000e-01  -3.28250000e-01\n",
      "    2.15240000e-01   3.76360000e-01   3.99740000e-01   1.86860000e-01\n",
      "    3.95320000e-02   6.62200000e-02   3.21610000e-01   2.07260000e-01\n",
      "    9.75120000e-02  -9.75640000e-02  -2.92510000e-01  -3.83480000e-02\n",
      "   -2.80960000e-01   5.15730000e-02  -5.59150000e-01  -4.88020000e-02\n",
      "   -4.73170000e-02   1.47210000e-01   2.35120000e-01  -9.02640000e-02\n",
      "   -3.02770000e-01   4.83060000e-02  -1.68320000e-01   8.17350000e-02]]\n"
     ]
    }
   ],
   "source": [
    "weights_matrix = np.zeros((max_features + 1, 200))\n",
    "\n",
    "for word, i in word_tokenizer.word_index.items():\n",
    "\n",
    "    embedding_vector = embedding_vectors.get(word)\n",
    "    if embedding_vector is not None and i <= max_features:\n",
    "        weights_matrix[i] = embedding_vector\n",
    "\n",
    "# index 0 vector should be all zeroes, index 1 vector should be the same one as above\n",
    "print(weights_matrix[0:2,:])"
   ]
  },
  {
   "cell_type": "code",
   "execution_count": 10,
   "metadata": {
    "ExecuteTime": {
     "end_time": "2018-01-22T08:48:41.585775Z",
     "start_time": "2018-01-22T08:48:41.537742Z"
    }
   },
   "outputs": [
    {
     "name": "stdout",
     "output_type": "stream",
     "text": [
      "Day of year minimum = 1\n"
     ]
    }
   ],
   "source": [
    "print(f'Day of year minimum = {min(dayofyear)}')\n",
    "dayofyear_tf = dayofyear - min(dayofyear)"
   ]
  },
  {
   "cell_type": "code",
   "execution_count": 11,
   "metadata": {
    "ExecuteTime": {
     "end_time": "2018-01-22T08:48:41.686245Z",
     "start_time": "2018-01-22T08:48:41.586780Z"
    }
   },
   "outputs": [],
   "source": [
    "from keras.models import Input, Model\n",
    "from keras.layers import Dense, Embedding, GlobalAveragePooling1D, concatenate, Activation\n",
    "from keras.layers.core import Masking, Dropout, Reshape\n",
    "from keras.layers.normalization import BatchNormalization\n",
    "\n",
    "batch_size = 32\n",
    "embedding_dims = 200\n",
    "epochs = 20"
   ]
  },
  {
   "cell_type": "code",
   "execution_count": 12,
   "metadata": {
    "ExecuteTime": {
     "end_time": "2018-01-22T08:48:42.024451Z",
     "start_time": "2018-01-22T08:48:41.687245Z"
    }
   },
   "outputs": [],
   "source": [
    "title_input = Input(shape=(maxlen,), name='title_input')\n",
    "title_embedding = Embedding(max_features + 1, embedding_dims, weights=[weights_matrix])(title_input)\n",
    "title_pooling = GlobalAveragePooling1D()(title_embedding)"
   ]
  },
  {
   "cell_type": "code",
   "execution_count": 13,
   "metadata": {
    "ExecuteTime": {
     "end_time": "2018-01-22T08:48:42.045467Z",
     "start_time": "2018-01-22T08:48:42.026455Z"
    }
   },
   "outputs": [],
   "source": [
    "aux_output = Dense(1, activation='sigmoid', name='aux_out')(title_pooling)"
   ]
  },
  {
   "cell_type": "code",
   "execution_count": 14,
   "metadata": {
    "ExecuteTime": {
     "end_time": "2018-01-22T08:48:42.265681Z",
     "start_time": "2018-01-22T08:48:42.047469Z"
    }
   },
   "outputs": [],
   "source": [
    "meta_embedding_dims = 64\n",
    "\n",
    "minute_input = Input(shape=(1,), name='minute_input')\n",
    "minute_embedding = Embedding(60, meta_embedding_dims)(minute_input)\n",
    "minute_reshape = Reshape((meta_embedding_dims,))(minute_embedding)\n",
    "\n",
    "hour_input = Input(shape=(1,), name='hour_input')\n",
    "hour_embedding = Embedding(24, meta_embedding_dims)(hour_input)\n",
    "hour_reshape = Reshape((meta_embedding_dims,))(hour_embedding)\n",
    "\n",
    "dayofweek_input = Input(shape=(1,), name='dayofweek_input')\n",
    "dayofweek_embedding = Embedding(7, meta_embedding_dims)(dayofweek_input)\n",
    "dayofweek_reshape = Reshape((meta_embedding_dims,))(dayofweek_embedding)\n",
    "\n",
    "dayofyear_input = Input(shape=(1,), name='dayofyear_input')\n",
    "dayofyear_embedding = Embedding(366, meta_embedding_dims)(dayofyear_input)\n",
    "dayofyear_reshape = Reshape((meta_embedding_dims,))(dayofyear_embedding)\n",
    "\n",
    "edit_delta_minute_input = Input(shape=(1,), name='edit_delta_minute_input')\n",
    "edit_delta_minute_embedding = Embedding(60, meta_embedding_dims)(edit_delta_minute_input)\n",
    "edit_delta_minute_reshape = Reshape((meta_embedding_dims,))(edit_delta_minute_embedding)\n",
    "\n",
    "edit_delta_hour_input = Input(shape=(1,), name='edit_delta_hour_input')\n",
    "edit_delta_hour_embedding = Embedding(24, meta_embedding_dims)(edit_delta_hour_input)\n",
    "edit_delta_hour_reshape = Reshape((meta_embedding_dims,))(edit_delta_hour_embedding)\n",
    "\n",
    "edit_delta_day_input = Input(shape=(1,), name='edit_delta_day_input')\n",
    "edit_delta_day_embedding = Embedding(7, meta_embedding_dims)(edit_delta_day_input)\n",
    "edit_delta_day_reshape = Reshape((meta_embedding_dims,))(edit_delta_day_embedding)"
   ]
  },
  {
   "cell_type": "code",
   "execution_count": 24,
   "metadata": {
    "ExecuteTime": {
     "end_time": "2018-01-22T10:35:40.530292Z",
     "start_time": "2018-01-22T10:35:40.330133Z"
    }
   },
   "outputs": [],
   "source": [
    "merged = concatenate([title_pooling, hour_reshape, dayofweek_reshape, minute_reshape, dayofyear_reshape, edit_delta_minute_reshape, edit_delta_hour_reshape, edit_delta_day_reshape])\n",
    "merged = concatenate([title_pooling, hour_reshape, dayofweek_reshape, minute_reshape, dayofyear_reshape, edit_delta_day_reshape])\n",
    "\n",
    "hidden_1 = Dense(256, activation='relu')(merged)\n",
    "hidden_1 = BatchNormalization()(hidden_1)\n",
    "\n",
    "main_output = Dense(1, activation='sigmoid', name='main_out')(hidden_1)"
   ]
  },
  {
   "cell_type": "code",
   "execution_count": 26,
   "metadata": {
    "ExecuteTime": {
     "end_time": "2018-01-22T10:36:03.640296Z",
     "start_time": "2018-01-22T10:36:03.531219Z"
    }
   },
   "outputs": [
    {
     "name": "stdout",
     "output_type": "stream",
     "text": [
      "__________________________________________________________________________________________________\n",
      "Layer (type)                    Output Shape         Param #     Connected to                     \n",
      "==================================================================================================\n",
      "title_input (InputLayer)        (None, 40)           0                                            \n",
      "__________________________________________________________________________________________________\n",
      "hour_input (InputLayer)         (None, 1)            0                                            \n",
      "__________________________________________________________________________________________________\n",
      "dayofweek_input (InputLayer)    (None, 1)            0                                            \n",
      "__________________________________________________________________________________________________\n",
      "minute_input (InputLayer)       (None, 1)            0                                            \n",
      "__________________________________________________________________________________________________\n",
      "dayofyear_input (InputLayer)    (None, 1)            0                                            \n",
      "__________________________________________________________________________________________________\n",
      "edit_delta_day_input (InputLaye (None, 1)            0                                            \n",
      "__________________________________________________________________________________________________\n",
      "embedding_1 (Embedding)         (None, 40, 200)      8000200     title_input[0][0]                \n",
      "__________________________________________________________________________________________________\n",
      "embedding_3 (Embedding)         (None, 1, 64)        1536        hour_input[0][0]                 \n",
      "__________________________________________________________________________________________________\n",
      "embedding_4 (Embedding)         (None, 1, 64)        448         dayofweek_input[0][0]            \n",
      "__________________________________________________________________________________________________\n",
      "embedding_2 (Embedding)         (None, 1, 64)        3840        minute_input[0][0]               \n",
      "__________________________________________________________________________________________________\n",
      "embedding_5 (Embedding)         (None, 1, 64)        23424       dayofyear_input[0][0]            \n",
      "__________________________________________________________________________________________________\n",
      "embedding_8 (Embedding)         (None, 1, 64)        448         edit_delta_day_input[0][0]       \n",
      "__________________________________________________________________________________________________\n",
      "global_average_pooling1d_1 (Glo (None, 200)          0           embedding_1[0][0]                \n",
      "__________________________________________________________________________________________________\n",
      "reshape_2 (Reshape)             (None, 64)           0           embedding_3[0][0]                \n",
      "__________________________________________________________________________________________________\n",
      "reshape_3 (Reshape)             (None, 64)           0           embedding_4[0][0]                \n",
      "__________________________________________________________________________________________________\n",
      "reshape_1 (Reshape)             (None, 64)           0           embedding_2[0][0]                \n",
      "__________________________________________________________________________________________________\n",
      "reshape_4 (Reshape)             (None, 64)           0           embedding_5[0][0]                \n",
      "__________________________________________________________________________________________________\n",
      "reshape_7 (Reshape)             (None, 64)           0           embedding_8[0][0]                \n",
      "__________________________________________________________________________________________________\n",
      "concatenate_4 (Concatenate)     (None, 520)          0           global_average_pooling1d_1[0][0] \n",
      "                                                                 reshape_2[0][0]                  \n",
      "                                                                 reshape_3[0][0]                  \n",
      "                                                                 reshape_1[0][0]                  \n",
      "                                                                 reshape_4[0][0]                  \n",
      "                                                                 reshape_7[0][0]                  \n",
      "__________________________________________________________________________________________________\n",
      "dense_2 (Dense)                 (None, 256)          133376      concatenate_4[0][0]              \n",
      "__________________________________________________________________________________________________\n",
      "batch_normalization_2 (BatchNor (None, 256)          1024        dense_2[0][0]                    \n",
      "__________________________________________________________________________________________________\n",
      "main_out (Dense)                (None, 1)            257         batch_normalization_2[0][0]      \n",
      "__________________________________________________________________________________________________\n",
      "aux_out (Dense)                 (None, 1)            201         global_average_pooling1d_1[0][0] \n",
      "==================================================================================================\n",
      "Total params: 8,164,754\n",
      "Trainable params: 8,164,242\n",
      "Non-trainable params: 512\n",
      "__________________________________________________________________________________________________\n"
     ]
    }
   ],
   "source": [
    "model = Model(inputs=[title_input,\n",
    "                      hour_input,\n",
    "                      dayofweek_input,\n",
    "                      minute_input,\n",
    "                      dayofyear_input,\n",
    "                      edit_delta_day_input],\n",
    "              outputs=[main_output, aux_output])\n",
    "# model = Model(inputs=[title_input,\n",
    "#                       hour_input,\n",
    "#                       dayofweek_input,\n",
    "#                       minute_input,\n",
    "#                       dayofyear_input,\n",
    "#                       edit_delta_minute_input,\n",
    "#                       edit_delta_hour_input,\n",
    "#                       edit_delta_day_input], \n",
    "#               outputs=[main_output, aux_output])\n",
    "\n",
    "model.compile(loss='binary_crossentropy',\n",
    "              optimizer='adam',\n",
    "              metrics=['accuracy'],\n",
    "              loss_weights=[1, 0.2])\n",
    "\n",
    "model.summary()"
   ]
  },
  {
   "cell_type": "code",
   "execution_count": 27,
   "metadata": {
    "ExecuteTime": {
     "end_time": "2018-01-22T10:36:17.625030Z",
     "start_time": "2018-01-22T10:36:16.765411Z"
    }
   },
   "outputs": [],
   "source": [
    "from keras.utils.vis_utils import model_to_dot\n",
    "from keras.utils import plot_model\n",
    "\n",
    "plot_model(model, to_file='model.png')\n",
    "plot_model(model, to_file='model_shapes.png', show_shapes=True)"
   ]
  },
  {
   "cell_type": "markdown",
   "metadata": {},
   "source": [
    "!['blah'](model.png)"
   ]
  },
  {
   "cell_type": "markdown",
   "metadata": {},
   "source": [
    "Make sure to add graphviz to your path so it works with python. [Source](https://stackoverflow.com/questions/36886711/keras-runtimeerror-failed-to-import-pydot-after-installing-graphviz-and-pyd)"
   ]
  },
  {
   "cell_type": "code",
   "execution_count": 18,
   "metadata": {
    "ExecuteTime": {
     "end_time": "2018-01-22T08:48:45.914202Z",
     "start_time": "2018-01-22T08:48:43.156245Z"
    }
   },
   "outputs": [],
   "source": [
    "seed(42)\n",
    "split = 0.2\n",
    "\n",
    "# returns randomized indices with no repeats\n",
    "idx = sample(range(title_tf.shape[0]), title_tf.shape[0])\n",
    "\n",
    "score = score[idx]\n",
    "num_comments = num_comments[idx]\n",
    "\n",
    "title_tf = title_tf[idx, :]\n",
    "hour = hour[idx]\n",
    "dayofweek = dayofweek[idx]\n",
    "minute = minute[idx]\n",
    "dayofyear_tf = dayofyear_tf[idx]\n",
    "edited_delta_min = edited_delta_min[idx]\n",
    "edited_delta_hour = edited_delta_hour[idx]\n",
    "edited_delta_day = edited_delta_day[idx]"
   ]
  },
  {
   "cell_type": "code",
   "execution_count": 19,
   "metadata": {
    "ExecuteTime": {
     "end_time": "2018-01-22T08:48:45.934208Z",
     "start_time": "2018-01-22T08:48:45.915193Z"
    }
   },
   "outputs": [],
   "source": [
    "score = score > score.mean()"
   ]
  },
  {
   "cell_type": "code",
   "execution_count": 22,
   "metadata": {
    "ExecuteTime": {
     "end_time": "2018-01-22T09:25:08.602574Z",
     "start_time": "2018-01-22T09:25:08.594568Z"
    }
   },
   "outputs": [],
   "source": [
    "from keras.callbacks import CSVLogger, TensorBoard\n",
    "import tensorflow as tf\n",
    "\n",
    "csv_logger = CSVLogger('training.csv')\n",
    "tbCallBack = TensorBoard(log_dir='./Graph', histogram_freq=0, write_graph=True, write_images=True)"
   ]
  },
  {
   "cell_type": "code",
   "execution_count": 29,
   "metadata": {
    "ExecuteTime": {
     "end_time": "2018-01-22T10:37:07.283155Z",
     "start_time": "2018-01-22T10:37:03.522493Z"
    }
   },
   "outputs": [
    {
     "name": "stdout",
     "output_type": "stream",
     "text": [
      "Train on 247985 samples, validate on 61997 samples\n",
      "Epoch 1/20\n"
     ]
    },
    {
     "ename": "InvalidArgumentError",
     "evalue": "indices[1,0] = -1 is not in [0, 7)\n\t [[Node: embedding_8/Gather = Gather[Tindices=DT_INT32, Tparams=DT_FLOAT, validate_indices=true, _device=\"/job:localhost/replica:0/task:0/cpu:0\"](embedding_8/embeddings/read, embedding_8/Cast)]]\n\nCaused by op 'embedding_8/Gather', defined at:\n  File \"C:\\Users\\DT-Laptop\\Anaconda3\\envs\\new_ds\\lib\\runpy.py\", line 193, in _run_module_as_main\n    \"__main__\", mod_spec)\n  File \"C:\\Users\\DT-Laptop\\Anaconda3\\envs\\new_ds\\lib\\runpy.py\", line 85, in _run_code\n    exec(code, run_globals)\n  File \"C:\\Users\\DT-Laptop\\Anaconda3\\envs\\new_ds\\lib\\site-packages\\ipykernel_launcher.py\", line 16, in <module>\n    app.launch_new_instance()\n  File \"C:\\Users\\DT-Laptop\\Anaconda3\\envs\\new_ds\\lib\\site-packages\\traitlets\\config\\application.py\", line 658, in launch_instance\n    app.start()\n  File \"C:\\Users\\DT-Laptop\\Anaconda3\\envs\\new_ds\\lib\\site-packages\\ipykernel\\kernelapp.py\", line 478, in start\n    self.io_loop.start()\n  File \"C:\\Users\\DT-Laptop\\Anaconda3\\envs\\new_ds\\lib\\site-packages\\zmq\\eventloop\\ioloop.py\", line 177, in start\n    super(ZMQIOLoop, self).start()\n  File \"C:\\Users\\DT-Laptop\\Anaconda3\\envs\\new_ds\\lib\\site-packages\\tornado\\ioloop.py\", line 888, in start\n    handler_func(fd_obj, events)\n  File \"C:\\Users\\DT-Laptop\\Anaconda3\\envs\\new_ds\\lib\\site-packages\\tornado\\stack_context.py\", line 277, in null_wrapper\n    return fn(*args, **kwargs)\n  File \"C:\\Users\\DT-Laptop\\Anaconda3\\envs\\new_ds\\lib\\site-packages\\zmq\\eventloop\\zmqstream.py\", line 440, in _handle_events\n    self._handle_recv()\n  File \"C:\\Users\\DT-Laptop\\Anaconda3\\envs\\new_ds\\lib\\site-packages\\zmq\\eventloop\\zmqstream.py\", line 472, in _handle_recv\n    self._run_callback(callback, msg)\n  File \"C:\\Users\\DT-Laptop\\Anaconda3\\envs\\new_ds\\lib\\site-packages\\zmq\\eventloop\\zmqstream.py\", line 414, in _run_callback\n    callback(*args, **kwargs)\n  File \"C:\\Users\\DT-Laptop\\Anaconda3\\envs\\new_ds\\lib\\site-packages\\tornado\\stack_context.py\", line 277, in null_wrapper\n    return fn(*args, **kwargs)\n  File \"C:\\Users\\DT-Laptop\\Anaconda3\\envs\\new_ds\\lib\\site-packages\\ipykernel\\kernelbase.py\", line 281, in dispatcher\n    return self.dispatch_shell(stream, msg)\n  File \"C:\\Users\\DT-Laptop\\Anaconda3\\envs\\new_ds\\lib\\site-packages\\ipykernel\\kernelbase.py\", line 232, in dispatch_shell\n    handler(stream, idents, msg)\n  File \"C:\\Users\\DT-Laptop\\Anaconda3\\envs\\new_ds\\lib\\site-packages\\ipykernel\\kernelbase.py\", line 397, in execute_request\n    user_expressions, allow_stdin)\n  File \"C:\\Users\\DT-Laptop\\Anaconda3\\envs\\new_ds\\lib\\site-packages\\ipykernel\\ipkernel.py\", line 208, in do_execute\n    res = shell.run_cell(code, store_history=store_history, silent=silent)\n  File \"C:\\Users\\DT-Laptop\\Anaconda3\\envs\\new_ds\\lib\\site-packages\\ipykernel\\zmqshell.py\", line 533, in run_cell\n    return super(ZMQInteractiveShell, self).run_cell(*args, **kwargs)\n  File \"C:\\Users\\DT-Laptop\\Anaconda3\\envs\\new_ds\\lib\\site-packages\\IPython\\core\\interactiveshell.py\", line 2728, in run_cell\n    interactivity=interactivity, compiler=compiler, result=result)\n  File \"C:\\Users\\DT-Laptop\\Anaconda3\\envs\\new_ds\\lib\\site-packages\\IPython\\core\\interactiveshell.py\", line 2850, in run_ast_nodes\n    if self.run_code(code, result):\n  File \"C:\\Users\\DT-Laptop\\Anaconda3\\envs\\new_ds\\lib\\site-packages\\IPython\\core\\interactiveshell.py\", line 2910, in run_code\n    exec(code_obj, self.user_global_ns, self.user_ns)\n  File \"<ipython-input-14-9cb6eeead343>\", line 28, in <module>\n    edit_delta_day_embedding = Embedding(7, meta_embedding_dims)(edit_delta_day_input)\n  File \"C:\\Users\\DT-Laptop\\Anaconda3\\envs\\new_ds\\lib\\site-packages\\keras\\engine\\topology.py\", line 617, in __call__\n    output = self.call(inputs, **kwargs)\n  File \"C:\\Users\\DT-Laptop\\Anaconda3\\envs\\new_ds\\lib\\site-packages\\keras\\layers\\embeddings.py\", line 138, in call\n    out = K.gather(self.embeddings, inputs)\n  File \"C:\\Users\\DT-Laptop\\Anaconda3\\envs\\new_ds\\lib\\site-packages\\keras\\backend\\tensorflow_backend.py\", line 1208, in gather\n    return tf.gather(reference, indices)\n  File \"C:\\Users\\DT-Laptop\\Anaconda3\\envs\\new_ds\\lib\\site-packages\\tensorflow\\python\\ops\\gen_array_ops.py\", line 1207, in gather\n    validate_indices=validate_indices, name=name)\n  File \"C:\\Users\\DT-Laptop\\Anaconda3\\envs\\new_ds\\lib\\site-packages\\tensorflow\\python\\framework\\op_def_library.py\", line 768, in apply_op\n    op_def=op_def)\n  File \"C:\\Users\\DT-Laptop\\Anaconda3\\envs\\new_ds\\lib\\site-packages\\tensorflow\\python\\framework\\ops.py\", line 2336, in create_op\n    original_op=self._default_original_op, op_def=op_def)\n  File \"C:\\Users\\DT-Laptop\\Anaconda3\\envs\\new_ds\\lib\\site-packages\\tensorflow\\python\\framework\\ops.py\", line 1228, in __init__\n    self._traceback = _extract_stack()\n\nInvalidArgumentError (see above for traceback): indices[1,0] = -1 is not in [0, 7)\n\t [[Node: embedding_8/Gather = Gather[Tindices=DT_INT32, Tparams=DT_FLOAT, validate_indices=true, _device=\"/job:localhost/replica:0/task:0/cpu:0\"](embedding_8/embeddings/read, embedding_8/Cast)]]\n",
     "output_type": "error",
     "traceback": [
      "\u001b[1;31m---------------------------------------------------------------------------\u001b[0m",
      "\u001b[1;31mInvalidArgumentError\u001b[0m                      Traceback (most recent call last)",
      "\u001b[1;32m~\\Anaconda3\\envs\\new_ds\\lib\\site-packages\\tensorflow\\python\\client\\session.py\u001b[0m in \u001b[0;36m_do_call\u001b[1;34m(self, fn, *args)\u001b[0m\n\u001b[0;32m   1038\u001b[0m     \u001b[1;32mtry\u001b[0m\u001b[1;33m:\u001b[0m\u001b[1;33m\u001b[0m\u001b[0m\n\u001b[1;32m-> 1039\u001b[1;33m       \u001b[1;32mreturn\u001b[0m \u001b[0mfn\u001b[0m\u001b[1;33m(\u001b[0m\u001b[1;33m*\u001b[0m\u001b[0margs\u001b[0m\u001b[1;33m)\u001b[0m\u001b[1;33m\u001b[0m\u001b[0m\n\u001b[0m\u001b[0;32m   1040\u001b[0m     \u001b[1;32mexcept\u001b[0m \u001b[0merrors\u001b[0m\u001b[1;33m.\u001b[0m\u001b[0mOpError\u001b[0m \u001b[1;32mas\u001b[0m \u001b[0me\u001b[0m\u001b[1;33m:\u001b[0m\u001b[1;33m\u001b[0m\u001b[0m\n",
      "\u001b[1;32m~\\Anaconda3\\envs\\new_ds\\lib\\site-packages\\tensorflow\\python\\client\\session.py\u001b[0m in \u001b[0;36m_run_fn\u001b[1;34m(session, feed_dict, fetch_list, target_list, options, run_metadata)\u001b[0m\n\u001b[0;32m   1020\u001b[0m                                  \u001b[0mfeed_dict\u001b[0m\u001b[1;33m,\u001b[0m \u001b[0mfetch_list\u001b[0m\u001b[1;33m,\u001b[0m \u001b[0mtarget_list\u001b[0m\u001b[1;33m,\u001b[0m\u001b[1;33m\u001b[0m\u001b[0m\n\u001b[1;32m-> 1021\u001b[1;33m                                  status, run_metadata)\n\u001b[0m\u001b[0;32m   1022\u001b[0m \u001b[1;33m\u001b[0m\u001b[0m\n",
      "\u001b[1;32m~\\Anaconda3\\envs\\new_ds\\lib\\contextlib.py\u001b[0m in \u001b[0;36m__exit__\u001b[1;34m(self, type, value, traceback)\u001b[0m\n\u001b[0;32m     87\u001b[0m             \u001b[1;32mtry\u001b[0m\u001b[1;33m:\u001b[0m\u001b[1;33m\u001b[0m\u001b[0m\n\u001b[1;32m---> 88\u001b[1;33m                 \u001b[0mnext\u001b[0m\u001b[1;33m(\u001b[0m\u001b[0mself\u001b[0m\u001b[1;33m.\u001b[0m\u001b[0mgen\u001b[0m\u001b[1;33m)\u001b[0m\u001b[1;33m\u001b[0m\u001b[0m\n\u001b[0m\u001b[0;32m     89\u001b[0m             \u001b[1;32mexcept\u001b[0m \u001b[0mStopIteration\u001b[0m\u001b[1;33m:\u001b[0m\u001b[1;33m\u001b[0m\u001b[0m\n",
      "\u001b[1;32m~\\Anaconda3\\envs\\new_ds\\lib\\site-packages\\tensorflow\\python\\framework\\errors_impl.py\u001b[0m in \u001b[0;36mraise_exception_on_not_ok_status\u001b[1;34m()\u001b[0m\n\u001b[0;32m    465\u001b[0m           \u001b[0mcompat\u001b[0m\u001b[1;33m.\u001b[0m\u001b[0mas_text\u001b[0m\u001b[1;33m(\u001b[0m\u001b[0mpywrap_tensorflow\u001b[0m\u001b[1;33m.\u001b[0m\u001b[0mTF_Message\u001b[0m\u001b[1;33m(\u001b[0m\u001b[0mstatus\u001b[0m\u001b[1;33m)\u001b[0m\u001b[1;33m)\u001b[0m\u001b[1;33m,\u001b[0m\u001b[1;33m\u001b[0m\u001b[0m\n\u001b[1;32m--> 466\u001b[1;33m           pywrap_tensorflow.TF_GetCode(status))\n\u001b[0m\u001b[0;32m    467\u001b[0m   \u001b[1;32mfinally\u001b[0m\u001b[1;33m:\u001b[0m\u001b[1;33m\u001b[0m\u001b[0m\n",
      "\u001b[1;31mInvalidArgumentError\u001b[0m: indices[1,0] = -1 is not in [0, 7)\n\t [[Node: embedding_8/Gather = Gather[Tindices=DT_INT32, Tparams=DT_FLOAT, validate_indices=true, _device=\"/job:localhost/replica:0/task:0/cpu:0\"](embedding_8/embeddings/read, embedding_8/Cast)]]",
      "\nDuring handling of the above exception, another exception occurred:\n",
      "\u001b[1;31mInvalidArgumentError\u001b[0m                      Traceback (most recent call last)",
      "\u001b[1;32m<ipython-input-29-5a827e37088b>\u001b[0m in \u001b[0;36m<module>\u001b[1;34m()\u001b[0m\n\u001b[0;32m      3\u001b[0m           \u001b[0mbatch_size\u001b[0m\u001b[1;33m=\u001b[0m\u001b[1;32mNone\u001b[0m\u001b[1;33m,\u001b[0m\u001b[1;33m\u001b[0m\u001b[0m\n\u001b[0;32m      4\u001b[0m           \u001b[0mepochs\u001b[0m\u001b[1;33m=\u001b[0m\u001b[0mepochs\u001b[0m\u001b[1;33m,\u001b[0m\u001b[1;33m\u001b[0m\u001b[0m\n\u001b[1;32m----> 5\u001b[1;33m           validation_split=split, callbacks=[tbCallBack])\n\u001b[0m",
      "\u001b[1;32m~\\Anaconda3\\envs\\new_ds\\lib\\site-packages\\keras\\engine\\training.py\u001b[0m in \u001b[0;36mfit\u001b[1;34m(self, x, y, batch_size, epochs, verbose, callbacks, validation_split, validation_data, shuffle, class_weight, sample_weight, initial_epoch, steps_per_epoch, validation_steps, **kwargs)\u001b[0m\n\u001b[0;32m   1667\u001b[0m                               \u001b[0minitial_epoch\u001b[0m\u001b[1;33m=\u001b[0m\u001b[0minitial_epoch\u001b[0m\u001b[1;33m,\u001b[0m\u001b[1;33m\u001b[0m\u001b[0m\n\u001b[0;32m   1668\u001b[0m                               \u001b[0msteps_per_epoch\u001b[0m\u001b[1;33m=\u001b[0m\u001b[0msteps_per_epoch\u001b[0m\u001b[1;33m,\u001b[0m\u001b[1;33m\u001b[0m\u001b[0m\n\u001b[1;32m-> 1669\u001b[1;33m                               validation_steps=validation_steps)\n\u001b[0m\u001b[0;32m   1670\u001b[0m \u001b[1;33m\u001b[0m\u001b[0m\n\u001b[0;32m   1671\u001b[0m     def evaluate(self, x=None, y=None,\n",
      "\u001b[1;32m~\\Anaconda3\\envs\\new_ds\\lib\\site-packages\\keras\\engine\\training.py\u001b[0m in \u001b[0;36m_fit_loop\u001b[1;34m(self, f, ins, out_labels, batch_size, epochs, verbose, callbacks, val_f, val_ins, shuffle, callback_metrics, initial_epoch, steps_per_epoch, validation_steps)\u001b[0m\n\u001b[0;32m   1204\u001b[0m                         \u001b[0mins_batch\u001b[0m\u001b[1;33m[\u001b[0m\u001b[0mi\u001b[0m\u001b[1;33m]\u001b[0m \u001b[1;33m=\u001b[0m \u001b[0mins_batch\u001b[0m\u001b[1;33m[\u001b[0m\u001b[0mi\u001b[0m\u001b[1;33m]\u001b[0m\u001b[1;33m.\u001b[0m\u001b[0mtoarray\u001b[0m\u001b[1;33m(\u001b[0m\u001b[1;33m)\u001b[0m\u001b[1;33m\u001b[0m\u001b[0m\n\u001b[0;32m   1205\u001b[0m \u001b[1;33m\u001b[0m\u001b[0m\n\u001b[1;32m-> 1206\u001b[1;33m                     \u001b[0mouts\u001b[0m \u001b[1;33m=\u001b[0m \u001b[0mf\u001b[0m\u001b[1;33m(\u001b[0m\u001b[0mins_batch\u001b[0m\u001b[1;33m)\u001b[0m\u001b[1;33m\u001b[0m\u001b[0m\n\u001b[0m\u001b[0;32m   1207\u001b[0m                     \u001b[1;32mif\u001b[0m \u001b[1;32mnot\u001b[0m \u001b[0misinstance\u001b[0m\u001b[1;33m(\u001b[0m\u001b[0mouts\u001b[0m\u001b[1;33m,\u001b[0m \u001b[0mlist\u001b[0m\u001b[1;33m)\u001b[0m\u001b[1;33m:\u001b[0m\u001b[1;33m\u001b[0m\u001b[0m\n\u001b[0;32m   1208\u001b[0m                         \u001b[0mouts\u001b[0m \u001b[1;33m=\u001b[0m \u001b[1;33m[\u001b[0m\u001b[0mouts\u001b[0m\u001b[1;33m]\u001b[0m\u001b[1;33m\u001b[0m\u001b[0m\n",
      "\u001b[1;32m~\\Anaconda3\\envs\\new_ds\\lib\\site-packages\\keras\\backend\\tensorflow_backend.py\u001b[0m in \u001b[0;36m__call__\u001b[1;34m(self, inputs)\u001b[0m\n\u001b[0;32m   2473\u001b[0m         \u001b[0msession\u001b[0m \u001b[1;33m=\u001b[0m \u001b[0mget_session\u001b[0m\u001b[1;33m(\u001b[0m\u001b[1;33m)\u001b[0m\u001b[1;33m\u001b[0m\u001b[0m\n\u001b[0;32m   2474\u001b[0m         updated = session.run(fetches=fetches, feed_dict=feed_dict,\n\u001b[1;32m-> 2475\u001b[1;33m                               **self.session_kwargs)\n\u001b[0m\u001b[0;32m   2476\u001b[0m         \u001b[1;32mreturn\u001b[0m \u001b[0mupdated\u001b[0m\u001b[1;33m[\u001b[0m\u001b[1;33m:\u001b[0m\u001b[0mlen\u001b[0m\u001b[1;33m(\u001b[0m\u001b[0mself\u001b[0m\u001b[1;33m.\u001b[0m\u001b[0moutputs\u001b[0m\u001b[1;33m)\u001b[0m\u001b[1;33m]\u001b[0m\u001b[1;33m\u001b[0m\u001b[0m\n\u001b[0;32m   2477\u001b[0m \u001b[1;33m\u001b[0m\u001b[0m\n",
      "\u001b[1;32m~\\Anaconda3\\envs\\new_ds\\lib\\site-packages\\tensorflow\\python\\client\\session.py\u001b[0m in \u001b[0;36mrun\u001b[1;34m(self, fetches, feed_dict, options, run_metadata)\u001b[0m\n\u001b[0;32m    776\u001b[0m     \u001b[1;32mtry\u001b[0m\u001b[1;33m:\u001b[0m\u001b[1;33m\u001b[0m\u001b[0m\n\u001b[0;32m    777\u001b[0m       result = self._run(None, fetches, feed_dict, options_ptr,\n\u001b[1;32m--> 778\u001b[1;33m                          run_metadata_ptr)\n\u001b[0m\u001b[0;32m    779\u001b[0m       \u001b[1;32mif\u001b[0m \u001b[0mrun_metadata\u001b[0m\u001b[1;33m:\u001b[0m\u001b[1;33m\u001b[0m\u001b[0m\n\u001b[0;32m    780\u001b[0m         \u001b[0mproto_data\u001b[0m \u001b[1;33m=\u001b[0m \u001b[0mtf_session\u001b[0m\u001b[1;33m.\u001b[0m\u001b[0mTF_GetBuffer\u001b[0m\u001b[1;33m(\u001b[0m\u001b[0mrun_metadata_ptr\u001b[0m\u001b[1;33m)\u001b[0m\u001b[1;33m\u001b[0m\u001b[0m\n",
      "\u001b[1;32m~\\Anaconda3\\envs\\new_ds\\lib\\site-packages\\tensorflow\\python\\client\\session.py\u001b[0m in \u001b[0;36m_run\u001b[1;34m(self, handle, fetches, feed_dict, options, run_metadata)\u001b[0m\n\u001b[0;32m    980\u001b[0m     \u001b[1;32mif\u001b[0m \u001b[0mfinal_fetches\u001b[0m \u001b[1;32mor\u001b[0m \u001b[0mfinal_targets\u001b[0m\u001b[1;33m:\u001b[0m\u001b[1;33m\u001b[0m\u001b[0m\n\u001b[0;32m    981\u001b[0m       results = self._do_run(handle, final_targets, final_fetches,\n\u001b[1;32m--> 982\u001b[1;33m                              feed_dict_string, options, run_metadata)\n\u001b[0m\u001b[0;32m    983\u001b[0m     \u001b[1;32melse\u001b[0m\u001b[1;33m:\u001b[0m\u001b[1;33m\u001b[0m\u001b[0m\n\u001b[0;32m    984\u001b[0m       \u001b[0mresults\u001b[0m \u001b[1;33m=\u001b[0m \u001b[1;33m[\u001b[0m\u001b[1;33m]\u001b[0m\u001b[1;33m\u001b[0m\u001b[0m\n",
      "\u001b[1;32m~\\Anaconda3\\envs\\new_ds\\lib\\site-packages\\tensorflow\\python\\client\\session.py\u001b[0m in \u001b[0;36m_do_run\u001b[1;34m(self, handle, target_list, fetch_list, feed_dict, options, run_metadata)\u001b[0m\n\u001b[0;32m   1030\u001b[0m     \u001b[1;32mif\u001b[0m \u001b[0mhandle\u001b[0m \u001b[1;32mis\u001b[0m \u001b[1;32mNone\u001b[0m\u001b[1;33m:\u001b[0m\u001b[1;33m\u001b[0m\u001b[0m\n\u001b[0;32m   1031\u001b[0m       return self._do_call(_run_fn, self._session, feed_dict, fetch_list,\n\u001b[1;32m-> 1032\u001b[1;33m                            target_list, options, run_metadata)\n\u001b[0m\u001b[0;32m   1033\u001b[0m     \u001b[1;32melse\u001b[0m\u001b[1;33m:\u001b[0m\u001b[1;33m\u001b[0m\u001b[0m\n\u001b[0;32m   1034\u001b[0m       return self._do_call(_prun_fn, self._session, handle, feed_dict,\n",
      "\u001b[1;32m~\\Anaconda3\\envs\\new_ds\\lib\\site-packages\\tensorflow\\python\\client\\session.py\u001b[0m in \u001b[0;36m_do_call\u001b[1;34m(self, fn, *args)\u001b[0m\n\u001b[0;32m   1050\u001b[0m         \u001b[1;32mexcept\u001b[0m \u001b[0mKeyError\u001b[0m\u001b[1;33m:\u001b[0m\u001b[1;33m\u001b[0m\u001b[0m\n\u001b[0;32m   1051\u001b[0m           \u001b[1;32mpass\u001b[0m\u001b[1;33m\u001b[0m\u001b[0m\n\u001b[1;32m-> 1052\u001b[1;33m       \u001b[1;32mraise\u001b[0m \u001b[0mtype\u001b[0m\u001b[1;33m(\u001b[0m\u001b[0me\u001b[0m\u001b[1;33m)\u001b[0m\u001b[1;33m(\u001b[0m\u001b[0mnode_def\u001b[0m\u001b[1;33m,\u001b[0m \u001b[0mop\u001b[0m\u001b[1;33m,\u001b[0m \u001b[0mmessage\u001b[0m\u001b[1;33m)\u001b[0m\u001b[1;33m\u001b[0m\u001b[0m\n\u001b[0m\u001b[0;32m   1053\u001b[0m \u001b[1;33m\u001b[0m\u001b[0m\n\u001b[0;32m   1054\u001b[0m   \u001b[1;32mdef\u001b[0m \u001b[0m_extend_graph\u001b[0m\u001b[1;33m(\u001b[0m\u001b[0mself\u001b[0m\u001b[1;33m)\u001b[0m\u001b[1;33m:\u001b[0m\u001b[1;33m\u001b[0m\u001b[0m\n",
      "\u001b[1;31mInvalidArgumentError\u001b[0m: indices[1,0] = -1 is not in [0, 7)\n\t [[Node: embedding_8/Gather = Gather[Tindices=DT_INT32, Tparams=DT_FLOAT, validate_indices=true, _device=\"/job:localhost/replica:0/task:0/cpu:0\"](embedding_8/embeddings/read, embedding_8/Cast)]]\n\nCaused by op 'embedding_8/Gather', defined at:\n  File \"C:\\Users\\DT-Laptop\\Anaconda3\\envs\\new_ds\\lib\\runpy.py\", line 193, in _run_module_as_main\n    \"__main__\", mod_spec)\n  File \"C:\\Users\\DT-Laptop\\Anaconda3\\envs\\new_ds\\lib\\runpy.py\", line 85, in _run_code\n    exec(code, run_globals)\n  File \"C:\\Users\\DT-Laptop\\Anaconda3\\envs\\new_ds\\lib\\site-packages\\ipykernel_launcher.py\", line 16, in <module>\n    app.launch_new_instance()\n  File \"C:\\Users\\DT-Laptop\\Anaconda3\\envs\\new_ds\\lib\\site-packages\\traitlets\\config\\application.py\", line 658, in launch_instance\n    app.start()\n  File \"C:\\Users\\DT-Laptop\\Anaconda3\\envs\\new_ds\\lib\\site-packages\\ipykernel\\kernelapp.py\", line 478, in start\n    self.io_loop.start()\n  File \"C:\\Users\\DT-Laptop\\Anaconda3\\envs\\new_ds\\lib\\site-packages\\zmq\\eventloop\\ioloop.py\", line 177, in start\n    super(ZMQIOLoop, self).start()\n  File \"C:\\Users\\DT-Laptop\\Anaconda3\\envs\\new_ds\\lib\\site-packages\\tornado\\ioloop.py\", line 888, in start\n    handler_func(fd_obj, events)\n  File \"C:\\Users\\DT-Laptop\\Anaconda3\\envs\\new_ds\\lib\\site-packages\\tornado\\stack_context.py\", line 277, in null_wrapper\n    return fn(*args, **kwargs)\n  File \"C:\\Users\\DT-Laptop\\Anaconda3\\envs\\new_ds\\lib\\site-packages\\zmq\\eventloop\\zmqstream.py\", line 440, in _handle_events\n    self._handle_recv()\n  File \"C:\\Users\\DT-Laptop\\Anaconda3\\envs\\new_ds\\lib\\site-packages\\zmq\\eventloop\\zmqstream.py\", line 472, in _handle_recv\n    self._run_callback(callback, msg)\n  File \"C:\\Users\\DT-Laptop\\Anaconda3\\envs\\new_ds\\lib\\site-packages\\zmq\\eventloop\\zmqstream.py\", line 414, in _run_callback\n    callback(*args, **kwargs)\n  File \"C:\\Users\\DT-Laptop\\Anaconda3\\envs\\new_ds\\lib\\site-packages\\tornado\\stack_context.py\", line 277, in null_wrapper\n    return fn(*args, **kwargs)\n  File \"C:\\Users\\DT-Laptop\\Anaconda3\\envs\\new_ds\\lib\\site-packages\\ipykernel\\kernelbase.py\", line 281, in dispatcher\n    return self.dispatch_shell(stream, msg)\n  File \"C:\\Users\\DT-Laptop\\Anaconda3\\envs\\new_ds\\lib\\site-packages\\ipykernel\\kernelbase.py\", line 232, in dispatch_shell\n    handler(stream, idents, msg)\n  File \"C:\\Users\\DT-Laptop\\Anaconda3\\envs\\new_ds\\lib\\site-packages\\ipykernel\\kernelbase.py\", line 397, in execute_request\n    user_expressions, allow_stdin)\n  File \"C:\\Users\\DT-Laptop\\Anaconda3\\envs\\new_ds\\lib\\site-packages\\ipykernel\\ipkernel.py\", line 208, in do_execute\n    res = shell.run_cell(code, store_history=store_history, silent=silent)\n  File \"C:\\Users\\DT-Laptop\\Anaconda3\\envs\\new_ds\\lib\\site-packages\\ipykernel\\zmqshell.py\", line 533, in run_cell\n    return super(ZMQInteractiveShell, self).run_cell(*args, **kwargs)\n  File \"C:\\Users\\DT-Laptop\\Anaconda3\\envs\\new_ds\\lib\\site-packages\\IPython\\core\\interactiveshell.py\", line 2728, in run_cell\n    interactivity=interactivity, compiler=compiler, result=result)\n  File \"C:\\Users\\DT-Laptop\\Anaconda3\\envs\\new_ds\\lib\\site-packages\\IPython\\core\\interactiveshell.py\", line 2850, in run_ast_nodes\n    if self.run_code(code, result):\n  File \"C:\\Users\\DT-Laptop\\Anaconda3\\envs\\new_ds\\lib\\site-packages\\IPython\\core\\interactiveshell.py\", line 2910, in run_code\n    exec(code_obj, self.user_global_ns, self.user_ns)\n  File \"<ipython-input-14-9cb6eeead343>\", line 28, in <module>\n    edit_delta_day_embedding = Embedding(7, meta_embedding_dims)(edit_delta_day_input)\n  File \"C:\\Users\\DT-Laptop\\Anaconda3\\envs\\new_ds\\lib\\site-packages\\keras\\engine\\topology.py\", line 617, in __call__\n    output = self.call(inputs, **kwargs)\n  File \"C:\\Users\\DT-Laptop\\Anaconda3\\envs\\new_ds\\lib\\site-packages\\keras\\layers\\embeddings.py\", line 138, in call\n    out = K.gather(self.embeddings, inputs)\n  File \"C:\\Users\\DT-Laptop\\Anaconda3\\envs\\new_ds\\lib\\site-packages\\keras\\backend\\tensorflow_backend.py\", line 1208, in gather\n    return tf.gather(reference, indices)\n  File \"C:\\Users\\DT-Laptop\\Anaconda3\\envs\\new_ds\\lib\\site-packages\\tensorflow\\python\\ops\\gen_array_ops.py\", line 1207, in gather\n    validate_indices=validate_indices, name=name)\n  File \"C:\\Users\\DT-Laptop\\Anaconda3\\envs\\new_ds\\lib\\site-packages\\tensorflow\\python\\framework\\op_def_library.py\", line 768, in apply_op\n    op_def=op_def)\n  File \"C:\\Users\\DT-Laptop\\Anaconda3\\envs\\new_ds\\lib\\site-packages\\tensorflow\\python\\framework\\ops.py\", line 2336, in create_op\n    original_op=self._default_original_op, op_def=op_def)\n  File \"C:\\Users\\DT-Laptop\\Anaconda3\\envs\\new_ds\\lib\\site-packages\\tensorflow\\python\\framework\\ops.py\", line 1228, in __init__\n    self._traceback = _extract_stack()\n\nInvalidArgumentError (see above for traceback): indices[1,0] = -1 is not in [0, 7)\n\t [[Node: embedding_8/Gather = Gather[Tindices=DT_INT32, Tparams=DT_FLOAT, validate_indices=true, _device=\"/job:localhost/replica:0/task:0/cpu:0\"](embedding_8/embeddings/read, embedding_8/Cast)]]\n"
     ]
    }
   ],
   "source": [
    "# model.fit([title_tf, hour, dayofweek, minute, dayofyear_tf, edited_delta_min, edited_delta_hour, edited_delta_day], [score, score],\n",
    "model.fit([title_tf, hour, dayofweek, minute, dayofyear_tf, edited_delta_day], [score, score],\n",
    "          batch_size=None,\n",
    "          epochs=epochs,\n",
    "          validation_split=split, callbacks=[tbCallBack])"
   ]
  },
  {
   "cell_type": "code",
   "execution_count": null,
   "metadata": {},
   "outputs": [],
   "source": []
  }
 ],
 "metadata": {
  "hide_input": false,
  "kernelspec": {
   "display_name": "Python 3",
   "language": "python",
   "name": "python3"
  },
  "language_info": {
   "codemirror_mode": {
    "name": "ipython",
    "version": 3
   },
   "file_extension": ".py",
   "mimetype": "text/x-python",
   "name": "python",
   "nbconvert_exporter": "python",
   "pygments_lexer": "ipython3",
   "version": "3.6.4"
  }
 },
 "nbformat": 4,
 "nbformat_minor": 1
}
